{
 "cells": [
  {
   "cell_type": "markdown",
   "metadata": {},
   "source": [
    "# 1. Import Libraries"
   ]
  },
  {
   "cell_type": "code",
   "execution_count": 133,
   "metadata": {},
   "outputs": [],
   "source": [
    "import json\n",
    "import pandas as pd\n",
    "import numpy as np\n",
    "from sklearn.feature_extraction.text import CountVectorizer\n",
    "from sklearn.cluster import KMeans,k_means\n",
    "from sklearn.decomposition import PCA\n",
    "import seaborn as sns\n",
    "import matplotlib.pyplot as plt\n",
    "from shapely.geometry import Point, Polygon\n",
    "import geopandas as gpd"
   ]
  },
  {
   "cell_type": "markdown",
   "metadata": {},
   "source": [
    "# 2. Preparing Dataset"
   ]
  },
  {
   "cell_type": "markdown",
   "metadata": {},
   "source": [
    "## 2.1 Yelp Open Dataset"
   ]
  },
  {
   "cell_type": "markdown",
   "metadata": {},
   "source": [
    "Yelp Open Dataset is an open dataset released by Yelp for learning purposes. It consists of millions of user reviews, businesses attributes and over 200,000 pictures from multiple metropolitan areas\n",
    "- Size: 2.66 GB JSON \n",
    "- Number of Records: 5,200,000 reviews, 174,000 business attributes, 200,000 pictures etc.\n",
    "     > We only used Business JSON fiel to conduct an analysis. An example of the Business JSON file:\n",
    "       [{'business_id': 'Apn5Q_b6Nz61Tq4XzPdf9A',\n",
    "         'name': 'Minhas Micro Brewery',\n",
    "         'neighborhood': '',\n",
    "         'address': '1314 44 Avenue NE',\n",
    "         'city': 'Calgary',\n",
    "         'state': 'AB',\n",
    "         'postal_code': 'T2E 6L6',\n",
    "         'latitude': 51.0918130155,\n",
    "         'longitude': -114.031674872,\n",
    "         'stars': 4.0,\n",
    "         'review_count': 24,\n",
    "         'is_open': 1,\n",
    "         'attributes': {'BikeParking': 'False',\n",
    "          'BusinessAcceptsCreditCards': 'True',\n",
    "          'BusinessParking': \"{'garage': False, 'street': True, 'validated': False, 'lot': False, 'valet': False}\",\n",
    "          'GoodForKids': 'True',\n",
    "          'HasTV': 'True',\n",
    "          'NoiseLevel': 'average',\n",
    "          'OutdoorSeating': 'False',\n",
    "          'RestaurantsAttire': 'casual',\n",
    "          'RestaurantsDelivery': 'False',\n",
    "          'RestaurantsGoodForGroups': 'True',\n",
    "          'RestaurantsPriceRange2': '2',\n",
    "          'RestaurantsReservations': 'True',\n",
    "          'RestaurantsTakeOut': 'True'},\n",
    "         'categories': 'Tours, Breweries, Pizza, Restaurants, Food, Hotels & Travel',\n",
    "         'hours': {'Monday': '8:30-17:0',\n",
    "          'Tuesday': '11:0-21:0',\n",
    "          'Wednesday': '11:0-21:0',\n",
    "          'Thursday': '11:0-21:0',\n",
    "          'Friday': '11:0-21:0',\n",
    "          'Saturday': '11:0-21:0'}},\n",
    "           ...]"
   ]
  },
  {
   "cell_type": "markdown",
   "metadata": {},
   "source": [
    "## 2.2 Data Cleaning "
   ]
  },
  {
   "cell_type": "markdown",
   "metadata": {},
   "source": [
    "### 2.2.1 Read JSON file"
   ]
  },
  {
   "cell_type": "code",
   "execution_count": 134,
   "metadata": {},
   "outputs": [],
   "source": [
    "data = []\n",
    "with open('yelp_academic_dataset_business.json') as f:\n",
    "    for line in f:\n",
    "        data.append(json.loads(line))"
   ]
  },
  {
   "cell_type": "markdown",
   "metadata": {},
   "source": [
    "### 2.2.2 Convert the JSON file to DataFrame and drop the rows if the `attribute` is NAN"
   ]
  },
  {
   "cell_type": "code",
   "execution_count": 135,
   "metadata": {},
   "outputs": [],
   "source": [
    "df = pd.DataFrame(data)\n",
    "df.dropna(subset=['attributes'],inplace=True)"
   ]
  },
  {
   "cell_type": "markdown",
   "metadata": {},
   "source": [
    "### 2.2.3 Insert the `RestaurantsPriceRange2` ( Yelp $ Signs)"
   ]
  },
  {
   "cell_type": "code",
   "execution_count": 136,
   "metadata": {
    "scrolled": true
   },
   "outputs": [],
   "source": [
    "df_attribute = pd.DataFrame([i if i != None else {'RestaurantsPriceRange2':np.NAN} for i in df['attributes']])"
   ]
  },
  {
   "cell_type": "code",
   "execution_count": 137,
   "metadata": {},
   "outputs": [],
   "source": [
    "df['dollar_sign'] = df_attribute['RestaurantsPriceRange2']"
   ]
  },
  {
   "cell_type": "code",
   "execution_count": 138,
   "metadata": {},
   "outputs": [],
   "source": [
    "df = df[['business_id', 'categories','latitude','longitude', 'name','postal_code','dollar_sign']]"
   ]
  },
  {
   "cell_type": "code",
   "execution_count": 139,
   "metadata": {
    "scrolled": false
   },
   "outputs": [
    {
     "data": {
      "text/html": [
       "<div>\n",
       "<style scoped>\n",
       "    .dataframe tbody tr th:only-of-type {\n",
       "        vertical-align: middle;\n",
       "    }\n",
       "\n",
       "    .dataframe tbody tr th {\n",
       "        vertical-align: top;\n",
       "    }\n",
       "\n",
       "    .dataframe thead th {\n",
       "        text-align: right;\n",
       "    }\n",
       "</style>\n",
       "<table border=\"1\" class=\"dataframe\">\n",
       "  <thead>\n",
       "    <tr style=\"text-align: right;\">\n",
       "      <th></th>\n",
       "      <th>business_id</th>\n",
       "      <th>categories</th>\n",
       "      <th>latitude</th>\n",
       "      <th>longitude</th>\n",
       "      <th>name</th>\n",
       "      <th>postal_code</th>\n",
       "      <th>dollar_sign</th>\n",
       "    </tr>\n",
       "  </thead>\n",
       "  <tbody>\n",
       "    <tr>\n",
       "      <th>0</th>\n",
       "      <td>Apn5Q_b6Nz61Tq4XzPdf9A</td>\n",
       "      <td>Tours, Breweries, Pizza, Restaurants, Food, Ho...</td>\n",
       "      <td>51.091813</td>\n",
       "      <td>-114.031675</td>\n",
       "      <td>Minhas Micro Brewery</td>\n",
       "      <td>T2E 6L6</td>\n",
       "      <td>2</td>\n",
       "    </tr>\n",
       "    <tr>\n",
       "      <th>1</th>\n",
       "      <td>AjEbIBw6ZFfln7ePHha9PA</td>\n",
       "      <td>Chicken Wings, Burgers, Caterers, Street Vendo...</td>\n",
       "      <td>35.960734</td>\n",
       "      <td>-114.939821</td>\n",
       "      <td>CK'S BBQ &amp; Catering</td>\n",
       "      <td>89002</td>\n",
       "      <td>2</td>\n",
       "    </tr>\n",
       "    <tr>\n",
       "      <th>2</th>\n",
       "      <td>O8S5hYJ1SMc8fA4QBtVujA</td>\n",
       "      <td>Breakfast &amp; Brunch, Restaurants, French, Sandw...</td>\n",
       "      <td>45.540503</td>\n",
       "      <td>-73.599300</td>\n",
       "      <td>La Bastringue</td>\n",
       "      <td>H2G 1K7</td>\n",
       "      <td>2</td>\n",
       "    </tr>\n",
       "    <tr>\n",
       "      <th>4</th>\n",
       "      <td>8USyCYqpScwiNEb58Bt6CA</td>\n",
       "      <td>Home &amp; Garden, Nurseries &amp; Gardening, Shopping...</td>\n",
       "      <td>51.035591</td>\n",
       "      <td>-114.027366</td>\n",
       "      <td>Action Engine</td>\n",
       "      <td>T2H 0N5</td>\n",
       "      <td>1</td>\n",
       "    </tr>\n",
       "    <tr>\n",
       "      <th>5</th>\n",
       "      <td>45bWSZtniwPRiqlivpS8Og</td>\n",
       "      <td>Coffee &amp; Tea, Food</td>\n",
       "      <td>33.671375</td>\n",
       "      <td>-112.030017</td>\n",
       "      <td>The Coffee Bean &amp; Tea Leaf</td>\n",
       "      <td>85024</td>\n",
       "      <td>1</td>\n",
       "    </tr>\n",
       "  </tbody>\n",
       "</table>\n",
       "</div>"
      ],
      "text/plain": [
       "              business_id                                         categories  \\\n",
       "0  Apn5Q_b6Nz61Tq4XzPdf9A  Tours, Breweries, Pizza, Restaurants, Food, Ho...   \n",
       "1  AjEbIBw6ZFfln7ePHha9PA  Chicken Wings, Burgers, Caterers, Street Vendo...   \n",
       "2  O8S5hYJ1SMc8fA4QBtVujA  Breakfast & Brunch, Restaurants, French, Sandw...   \n",
       "4  8USyCYqpScwiNEb58Bt6CA  Home & Garden, Nurseries & Gardening, Shopping...   \n",
       "5  45bWSZtniwPRiqlivpS8Og                                 Coffee & Tea, Food   \n",
       "\n",
       "    latitude   longitude                        name postal_code dollar_sign  \n",
       "0  51.091813 -114.031675        Minhas Micro Brewery     T2E 6L6           2  \n",
       "1  35.960734 -114.939821         CK'S BBQ & Catering       89002           2  \n",
       "2  45.540503  -73.599300               La Bastringue     H2G 1K7           2  \n",
       "4  51.035591 -114.027366               Action Engine     T2H 0N5           1  \n",
       "5  33.671375 -112.030017  The Coffee Bean & Tea Leaf       85024           1  "
      ]
     },
     "execution_count": 139,
     "metadata": {},
     "output_type": "execute_result"
    }
   ],
   "source": [
    "df.head()"
   ]
  },
  {
   "cell_type": "markdown",
   "metadata": {},
   "source": [
    "### 2.2.4 Missing values"
   ]
  },
  {
   "cell_type": "code",
   "execution_count": 140,
   "metadata": {
    "scrolled": true
   },
   "outputs": [
    {
     "data": {
      "text/plain": [
       "business_id        0\n",
       "categories        57\n",
       "latitude           5\n",
       "longitude          4\n",
       "name               0\n",
       "postal_code        0\n",
       "dollar_sign    70325\n",
       "dtype: int64"
      ]
     },
     "execution_count": 140,
     "metadata": {},
     "output_type": "execute_result"
    }
   ],
   "source": [
    "df.isnull().sum()"
   ]
  },
  {
   "cell_type": "code",
   "execution_count": 141,
   "metadata": {},
   "outputs": [],
   "source": [
    "df['categories'] = df['categories'].fillna('None')"
   ]
  },
  {
   "cell_type": "code",
   "execution_count": 142,
   "metadata": {},
   "outputs": [],
   "source": [
    "df.dropna(inplace=True)"
   ]
  },
  {
   "cell_type": "code",
   "execution_count": 143,
   "metadata": {
    "scrolled": false
   },
   "outputs": [
    {
     "data": {
      "text/plain": [
       "business_id    0\n",
       "categories     0\n",
       "latitude       0\n",
       "longitude      0\n",
       "name           0\n",
       "postal_code    0\n",
       "dollar_sign    0\n",
       "dtype: int64"
      ]
     },
     "execution_count": 143,
     "metadata": {},
     "output_type": "execute_result"
    }
   ],
   "source": [
    "df.isnull().sum()"
   ]
  },
  {
   "cell_type": "markdown",
   "metadata": {},
   "source": [
    "### 2.2.6 Select only 5 digit US postal_code "
   ]
  },
  {
   "cell_type": "code",
   "execution_count": 292,
   "metadata": {},
   "outputs": [],
   "source": [
    "df = df[df.postal_code.str.match(\"\\d{5}\")]"
   ]
  },
  {
   "cell_type": "markdown",
   "metadata": {},
   "source": [
    "### 2.2.5_1 ** Post_code Dataset**  Reset the Index as US postal_code"
   ]
  },
  {
   "cell_type": "code",
   "execution_count": 293,
   "metadata": {},
   "outputs": [],
   "source": [
    "df_post = df.set_index('postal_code')\n",
    "\n",
    "pivoted = pd.pivot_table(df_post, index='postal_code', columns='dollar_sign', values='business_id', aggfunc=\"count\",fill_value=0)\n",
    "\n",
    "flattened = pd.DataFrame(pivoted.to_records())\n",
    "\n",
    "df_post = flattened.rename(columns={'1':'yelp_dollar_1','2':'yelp_dollar_2','3':'yelp_dollar_3','4':'yelp_dollar_4'})\n",
    "\n",
    "df_post['Total_Business'] = df_post['yelp_dollar_1'] + df_post['yelp_dollar_2'] +  df_post['yelp_dollar_3'] + df_post['yelp_dollar_4']"
   ]
  },
  {
   "cell_type": "code",
   "execution_count": 294,
   "metadata": {},
   "outputs": [
    {
     "name": "stdout",
     "output_type": "stream",
     "text": [
      "EDA.ipynb\r\n",
      "IRS_zipcodes_clean.csv\r\n",
      "Neighborhood_PriceToRentRatio_AllHomes.csv\r\n",
      "SQL_lecture_DS.ipynb\r\n",
      "twitter_2018-12-29_1546886415.json\r\n",
      "yelp_academic_dataset_business.json\r\n",
      "zillow-neighborhoods.geojson\r\n"
     ]
    }
   ],
   "source": [
    "!ls"
   ]
  },
  {
   "cell_type": "code",
   "execution_count": 295,
   "metadata": {},
   "outputs": [],
   "source": [
    "IRS = pd.read_csv('./IRS_zipcodes_clean.csv')"
   ]
  },
  {
   "cell_type": "code",
   "execution_count": 296,
   "metadata": {},
   "outputs": [],
   "source": [
    "IRS = IRS.rename(columns={'zipcode':'postal_code',\n",
    "                          '1':'income_level_1',\n",
    "                          '2':'income_level_2',\n",
    "                          '3':'income_level_3',\n",
    "                          '4':'income_level_4',\n",
    "                          '5':'income_level_5',\n",
    "                          '6':'income_level_6'})"
   ]
  },
  {
   "cell_type": "code",
   "execution_count": 297,
   "metadata": {},
   "outputs": [],
   "source": [
    "df_post.postal_code = df_post.postal_code.astype('int64')"
   ]
  },
  {
   "cell_type": "code",
   "execution_count": 298,
   "metadata": {},
   "outputs": [],
   "source": [
    "df_post = df_post.merge(IRS,on='postal_code',how='inner')"
   ]
  },
  {
   "cell_type": "code",
   "execution_count": 302,
   "metadata": {},
   "outputs": [
    {
     "data": {
      "text/plain": [
       "postal_code         int64\n",
       "yelp_dollar_1       int64\n",
       "yelp_dollar_2       int64\n",
       "yelp_dollar_3       int64\n",
       "yelp_dollar_4       int64\n",
       "Total_Business      int64\n",
       "STATE              object\n",
       "income_level_1    float64\n",
       "income_level_2    float64\n",
       "income_level_3    float64\n",
       "income_level_4    float64\n",
       "income_level_5    float64\n",
       "income_level_6    float64\n",
       "dtype: object"
      ]
     },
     "execution_count": 302,
     "metadata": {},
     "output_type": "execute_result"
    }
   ],
   "source": [
    "df_post.dtypes"
   ]
  },
  {
   "cell_type": "code",
   "execution_count": 304,
   "metadata": {
    "scrolled": true
   },
   "outputs": [],
   "source": [
    "df_post.to_csv('yelp_IRS_zipcode.csv')"
   ]
  },
  {
   "cell_type": "markdown",
   "metadata": {},
   "source": [
    "\n",
    "|Variables| dtype| description |\n",
    "|-------|----|-----|\n",
    "|postal_code|int64|zipcode|\n",
    "|yelp_dollar_1|int|the number of businesses which have 1 dollar signs in this zipcode area|\n",
    "|yelp_dollar_2|int|the number of businesses which have 2 dollar signs in this zipcode area|\n",
    "|yelp_dollar_3|int|the number of businesses which have 3 dollar signs in this zipcode area|\n",
    "|yelp_dollar_4|int|the number of businesses which have 4 dollar signs in this zipcode area|\n",
    "|Total_Business|int|the totoal number of businsess in this zipcode area|\n",
    "|STATE|object|States|\n",
    "|income_level_1|float|the number of people whose income level lie in level_1 category(statistics from IRS)|\n",
    "|income_level_2|float|the number of people whose income level lie in level_2 category(statistics from IRS)|\n",
    "|income_level_3|float|the number of people whose income level lie in level_3 category(statistics from IRS)|\n",
    "|income_level_4|float|the number of people whose income level lie in level_4 category(statistics from IRS)|\n",
    "|income_level_5|float|the number of people whose income level lie in level_5 category(statistics from IRS)|\n",
    "|income_level_6|float|the number of people whose income level lie in level_6 category(statistics from IRS)|"
   ]
  },
  {
   "cell_type": "markdown",
   "metadata": {},
   "source": [
    "### 2.2.5_2 **Neighborhood Name Dataset** Define the neighborhood "
   ]
  },
  {
   "cell_type": "markdown",
   "metadata": {},
   "source": [
    "**Outside Data**"
   ]
  },
  {
   "cell_type": "code",
   "execution_count": 219,
   "metadata": {},
   "outputs": [],
   "source": [
    "df_neighbor = df"
   ]
  },
  {
   "cell_type": "code",
   "execution_count": 220,
   "metadata": {},
   "outputs": [],
   "source": [
    "zillow = gpd.read_file('./zillow-neighborhoods.geojson')"
   ]
  },
  {
   "cell_type": "code",
   "execution_count": 221,
   "metadata": {},
   "outputs": [],
   "source": [
    "df_neighbor['geometry'] = list(zip(df_neighbor.longitude, df_neighbor.latitude))\n",
    "df_neighbor['geometry'] = df_neighbor['geometry'].apply(lambda x: Point(x)) "
   ]
  },
  {
   "cell_type": "code",
   "execution_count": 222,
   "metadata": {},
   "outputs": [],
   "source": [
    "zillow_geo = gpd.GeoDataFrame(zillow[['regionid','geometry','name','city']])\n",
    "yelp_geo = gpd.GeoDataFrame(df_neighbor[['business_id','geometry','categories','dollar_sign','postal_code']]) "
   ]
  },
  {
   "cell_type": "code",
   "execution_count": 223,
   "metadata": {
    "scrolled": true
   },
   "outputs": [
    {
     "data": {
      "text/plain": [
       "regionid     0\n",
       "geometry    28\n",
       "name         0\n",
       "city         0\n",
       "dtype: int64"
      ]
     },
     "execution_count": 223,
     "metadata": {},
     "output_type": "execute_result"
    }
   ],
   "source": [
    "zillow_geo.isnull().sum()"
   ]
  },
  {
   "cell_type": "code",
   "execution_count": 224,
   "metadata": {},
   "outputs": [],
   "source": [
    "zillow_geo.dropna(inplace=True)\n",
    "\n",
    "merged_geos = gpd.sjoin(yelp_geo, zillow_geo, op='within',how='left').fillna('NoNeighborhood')\n",
    "\n",
    "merged_geos.rename(columns={'name':'neighborhood','geometry':'point_location'},inplace=True)\n",
    "\n",
    "df_neighbor = pd.DataFrame(merged_geos)\n",
    "\n",
    "df_neighbor.set_index('neighborhood',inplace=True)\n",
    "\n",
    "pivoted = pd.pivot_table(df_neighbor, index=['neighborhood','city'], columns='dollar_sign', values='business_id', aggfunc=\"count\",fill_value=0)\n",
    "\n",
    "flattened = pd.DataFrame(pivoted.to_records())\n",
    "\n",
    "df_neighbor = flattened.rename(columns={'1':'yelp_dollar_1','2':'yelp_dollar_2','3':'yelp_dollar_3','4':'yelp_dollar_4'})\n",
    "\n",
    "df_neighbor['Total_Business'] = df_neighbor['yelp_dollar_1'] + df_neighbor['yelp_dollar_2'] +  df_neighbor['yelp_dollar_3'] + df_neighbor['yelp_dollar_4']\n",
    "\n",
    "df_zillow = pd.DataFrame(zillow)\n",
    "\n",
    "df_zillow.rename(columns={'name':'neighborhood'},inplace=True)\n",
    "\n",
    "df_neighbor = df_neighbor.merge(df_zillow,on=['neighborhood','city'],how='inner')"
   ]
  },
  {
   "cell_type": "code",
   "execution_count": 250,
   "metadata": {},
   "outputs": [],
   "source": [
    "Rent = pd.read_csv('./Neighborhood_PriceToRentRatio_AllHomes.csv')"
   ]
  },
  {
   "cell_type": "code",
   "execution_count": 252,
   "metadata": {},
   "outputs": [],
   "source": [
    "Rent = Rent[['RegionID','2018-11']]"
   ]
  },
  {
   "cell_type": "code",
   "execution_count": 254,
   "metadata": {},
   "outputs": [],
   "source": [
    "Rent.rename(columns={'RegionID':'regionid','2018-11':'Rent'},inplace=True)"
   ]
  },
  {
   "cell_type": "code",
   "execution_count": 262,
   "metadata": {},
   "outputs": [],
   "source": [
    "df_neighbor.regionid = df_neighbor.regionid.astype('int64')"
   ]
  },
  {
   "cell_type": "code",
   "execution_count": 264,
   "metadata": {},
   "outputs": [],
   "source": [
    "df_neighbor = df_neighbor.merge(Rent,on='regionid',how='inner')"
   ]
  },
  {
   "cell_type": "code",
   "execution_count": 306,
   "metadata": {
    "scrolled": true
   },
   "outputs": [
    {
     "data": {
      "text/plain": [
       "neighborhood       object\n",
       "city               object\n",
       "yelp_dollar_1       int64\n",
       "yelp_dollar_2       int64\n",
       "yelp_dollar_3       int64\n",
       "yelp_dollar_4       int64\n",
       "Total_Business      int64\n",
       "regionid            int64\n",
       "county             object\n",
       "state              object\n",
       "geometry           object\n",
       "Rent              float64\n",
       "dtype: object"
      ]
     },
     "execution_count": 306,
     "metadata": {},
     "output_type": "execute_result"
    }
   ],
   "source": [
    "df_neighbor.dtypes"
   ]
  },
  {
   "cell_type": "code",
   "execution_count": 305,
   "metadata": {},
   "outputs": [],
   "source": [
    "df_neighbor.to_csv('yelp_zillow_neighborhood.csv')"
   ]
  },
  {
   "cell_type": "markdown",
   "metadata": {},
   "source": [
    "|Variables| dtype| description |\n",
    "|-------|----|-----|\n",
    "|Neighborhood|object|Neighborhood names|\n",
    "|city|object|city names|\n",
    "|regionid|int|ID from Zillow reserach data to identify unique neighborhood|\n",
    "|state|object|state|\n",
    "|county|object|county|\n",
    "|geometry|object|Polygon values for boundary of neighborhood, can be further used for mapping)\n",
    "|yelp_dollar_1|int|the number of businesses which have 1 dollar signs in this zipcode area|\n",
    "|yelp_dollar_2|int|the number of businesses which have 2 dollar signs in this zipcode area|\n",
    "|yelp_dollar_3|int|the number of businesses which have 3 dollar signs in this zipcode area|\n",
    "|yelp_dollar_4|int|the number of businesses which have 4 dollar signs in this zipcode area|\n",
    "|Total_Business|int|the totoal number of businsess in this zipcode area|\n",
    "|STATE|object|States|\n",
    "|Rent|float|Rent p"
   ]
  },
  {
   "cell_type": "code",
   "execution_count": 14,
   "metadata": {},
   "outputs": [],
   "source": [
    "Restaurants = df[(df['categories'].str.contains('Restaurants')) | (df['categories'].str.contains('Food')) ]"
   ]
  },
  {
   "cell_type": "code",
   "execution_count": 17,
   "metadata": {
    "scrolled": false
   },
   "outputs": [
    {
     "data": {
      "image/png": "[encoded data removed]",
      "text/plain": [
       "<Figure size 792x504 with 1 Axes>"
      ]
     },
     "metadata": {
      "needs_background": "light"
     },
     "output_type": "display_data"
    }
   ],
   "source": [
    "plt.figure(figsize=(11,7));\n",
    "sns.countplot(Restaurants['dollar'], color = \"#3F5D7D\");\n",
    "plt.xlabel('The Number of Dollar Signs', fontsize=14);\n",
    "plt.ylabel('Count of Restaurants in Pheonix',fontsize=14);\n",
    "plt.title('The Distridutions of Yelp \"$\" for Restaurants in Pheonix ', fontsize=16);"
   ]
  },
  {
   "cell_type": "code",
   "execution_count": 18,
   "metadata": {},
   "outputs": [],
   "source": [
    "American = Restaurants[Restaurants['categories'].str.contains('American')]"
   ]
  },
  {
   "cell_type": "code",
   "execution_count": 19,
   "metadata": {
    "scrolled": true
   },
   "outputs": [
    {
     "data": {
      "image/png": "[encoded data removed]",
      "text/plain": [
       "<Figure size 792x504 with 1 Axes>"
      ]
     },
     "metadata": {
      "needs_background": "light"
     },
     "output_type": "display_data"
    }
   ],
   "source": [
    "plt.figure(figsize=(11,7));\n",
    "sns.countplot(American['dollar'], color = \"#3F5D7D\");\n",
    "plt.xlabel('The Number of Dollar Signs', fontsize=14);\n",
    "plt.ylabel('Count of Restaurants in Pheonix',fontsize=14);\n",
    "plt.title('The Distridutions of Yelp \"$\" for American Restaurants in Pheonix ', fontsize=16);"
   ]
  },
  {
   "cell_type": "code",
   "execution_count": 20,
   "metadata": {},
   "outputs": [],
   "source": [
    "Chinese = Restaurants[Restaurants['categories'].str.contains('Chinese')]"
   ]
  },
  {
   "cell_type": "code",
   "execution_count": 21,
   "metadata": {
    "scrolled": false
   },
   "outputs": [
    {
     "data": {
      "image/png": "[encoded data removed]",
      "text/plain": [
       "<Figure size 792x504 with 1 Axes>"
      ]
     },
     "metadata": {
      "needs_background": "light"
     },
     "output_type": "display_data"
    }
   ],
   "source": [
    "plt.figure(figsize=(11,7));\n",
    "sns.countplot(Chinese['dollar'], color = \"#3F5D7D\");\n",
    "plt.xlabel('The Number of Dollar Signs', fontsize=14);\n",
    "plt.ylabel('Count of Restaurants in Pheonix',fontsize=14);\n",
    "plt.title('The Distridutions of Yelp \"$\" for Chinese Restaurants in Pheonix ', fontsize=16);"
   ]
  },
  {
   "cell_type": "code",
   "execution_count": 22,
   "metadata": {
    "scrolled": false
   },
   "outputs": [
    {
     "data": {
      "image/png": "[encoded data removed]",
      "text/plain": [
       "<Figure size 792x504 with 1 Axes>"
      ]
     },
     "metadata": {
      "needs_background": "light"
     },
     "output_type": "display_data"
    }
   ],
   "source": [
    "Mexican = Restaurants[Restaurants['categories'].str.contains('Mexican')]\n",
    "plt.figure(figsize=(11,7));\n",
    "sns.countplot(Mexican['dollar'], color = \"#3F5D7D\");\n",
    "plt.xlabel('The Number of Dollar Signs', fontsize=14);\n",
    "plt.ylabel('Count of Restaurants in Pheonix',fontsize=14);\n",
    "plt.title('The Distridutions of Yelp \"$\" for Mexican Restaurants in Pheonix ', fontsize=16);"
   ]
  },
  {
   "cell_type": "code",
   "execution_count": 23,
   "metadata": {},
   "outputs": [
    {
     "data": {
      "image/png": "[encoded data removed]",
      "text/plain": [
       "<Figure size 792x504 with 1 Axes>"
      ]
     },
     "metadata": {
      "needs_background": "light"
     },
     "output_type": "display_data"
    }
   ],
   "source": [
    "Italian = Restaurants[Restaurants['categories'].str.contains('Italian')]\n",
    "plt.figure(figsize=(11,7));\n",
    "sns.countplot(Italian['dollar'], color = \"#3F5D7D\");\n",
    "plt.xlabel('The Number of Dollar Signs', fontsize=14);\n",
    "plt.ylabel('Count of Restaurants in Pheonix',fontsize=14);\n",
    "plt.title('The Distridutions of Yelp \"$\" for Italian Restaurants in Pheonix ', fontsize=16);"
   ]
  },
  {
   "cell_type": "code",
   "execution_count": 24,
   "metadata": {
    "scrolled": false
   },
   "outputs": [
    {
     "data": {
      "image/png": "[encoded data removed]",
      "text/plain": [
       "<Figure size 792x504 with 1 Axes>"
      ]
     },
     "metadata": {
      "needs_background": "light"
     },
     "output_type": "display_data"
    }
   ],
   "source": [
    "French = Restaurants[Restaurants['categories'].str.contains('French')]\n",
    "plt.figure(figsize=(11,7));\n",
    "sns.countplot(French['dollar'], color = \"#3F5D7D\");\n",
    "plt.xlabel('The Number of Dollar Signs', fontsize=14);\n",
    "plt.ylabel('Count of Restaurants in Pheonix',fontsize=14);\n",
    "plt.title('The Distridutions of Yelp \"$\" for French Restaurants in Pheonix ', fontsize=16);"
   ]
  },
  {
   "cell_type": "code",
   "execution_count": null,
   "metadata": {},
   "outputs": [],
   "source": []
  },
  {
   "cell_type": "code",
   "execution_count": 37,
   "metadata": {},
   "outputs": [],
   "source": [
    "zillow = gpd.read_file('/Users/janeliang/Downloads/zillow-neighborhoods.geojson')"
   ]
  },
  {
   "cell_type": "code",
   "execution_count": 38,
   "metadata": {},
   "outputs": [
    {
     "data": {
      "text/html": [
       "<div>\n",
       "<style scoped>\n",
       "    .dataframe tbody tr th:only-of-type {\n",
       "        vertical-align: middle;\n",
       "    }\n",
       "\n",
       "    .dataframe tbody tr th {\n",
       "        vertical-align: top;\n",
       "    }\n",
       "\n",
       "    .dataframe thead th {\n",
       "        text-align: right;\n",
       "    }\n",
       "</style>\n",
       "<table border=\"1\" class=\"dataframe\">\n",
       "  <thead>\n",
       "    <tr style=\"text-align: right;\">\n",
       "      <th></th>\n",
       "      <th>city</th>\n",
       "      <th>name</th>\n",
       "      <th>regionid</th>\n",
       "      <th>county</th>\n",
       "      <th>state</th>\n",
       "      <th>geometry</th>\n",
       "    </tr>\n",
       "  </thead>\n",
       "  <tbody>\n",
       "    <tr>\n",
       "      <th>0</th>\n",
       "      <td>Chicago</td>\n",
       "      <td>Dunning</td>\n",
       "      <td>138129</td>\n",
       "      <td>Cook</td>\n",
       "      <td>IL</td>\n",
       "      <td>POLYGON ((-87.78618999999989 41.94558, -87.786...</td>\n",
       "    </tr>\n",
       "    <tr>\n",
       "      <th>1</th>\n",
       "      <td>Danville</td>\n",
       "      <td>Vermilipn Heights</td>\n",
       "      <td>140779</td>\n",
       "      <td>Vermilion</td>\n",
       "      <td>IL</td>\n",
       "      <td>POLYGON ((-87.65849448899995 40.12343103000006...</td>\n",
       "    </tr>\n",
       "    <tr>\n",
       "      <th>2</th>\n",
       "      <td>Springfield</td>\n",
       "      <td>Jefferson Park</td>\n",
       "      <td>195637</td>\n",
       "      <td>Sangamon</td>\n",
       "      <td>IL</td>\n",
       "      <td>POLYGON ((-89.700805 39.812098, -89.696901 39....</td>\n",
       "    </tr>\n",
       "    <tr>\n",
       "      <th>3</th>\n",
       "      <td>Chicago</td>\n",
       "      <td>Gresham</td>\n",
       "      <td>269571</td>\n",
       "      <td>Cook</td>\n",
       "      <td>IL</td>\n",
       "      <td>POLYGON ((-87.6337397026425 41.72996999541133,...</td>\n",
       "    </tr>\n",
       "    <tr>\n",
       "      <th>4</th>\n",
       "      <td>Chicago</td>\n",
       "      <td>South Shore</td>\n",
       "      <td>269608</td>\n",
       "      <td>Cook</td>\n",
       "      <td>IL</td>\n",
       "      <td>POLYGON ((-87.56564699999987 41.774134, -87.56...</td>\n",
       "    </tr>\n",
       "  </tbody>\n",
       "</table>\n",
       "</div>"
      ],
      "text/plain": [
       "          city               name regionid     county state  \\\n",
       "0      Chicago            Dunning   138129       Cook    IL   \n",
       "1     Danville  Vermilipn Heights   140779  Vermilion    IL   \n",
       "2  Springfield     Jefferson Park   195637   Sangamon    IL   \n",
       "3      Chicago            Gresham   269571       Cook    IL   \n",
       "4      Chicago        South Shore   269608       Cook    IL   \n",
       "\n",
       "                                            geometry  \n",
       "0  POLYGON ((-87.78618999999989 41.94558, -87.786...  \n",
       "1  POLYGON ((-87.65849448899995 40.12343103000006...  \n",
       "2  POLYGON ((-89.700805 39.812098, -89.696901 39....  \n",
       "3  POLYGON ((-87.6337397026425 41.72996999541133,...  \n",
       "4  POLYGON ((-87.56564699999987 41.774134, -87.56...  "
      ]
     },
     "execution_count": 38,
     "metadata": {},
     "output_type": "execute_result"
    }
   ],
   "source": [
    "zillow.head()"
   ]
  },
  {
   "cell_type": "code",
   "execution_count": 39,
   "metadata": {
    "scrolled": true
   },
   "outputs": [
    {
     "data": {
      "image/svg+xml": [
       "<svg xmlns=\"http://www.w3.org/2000/svg\" xmlns:xlink=\"http://www.w3.org/1999/xlink\" width=\"100.0\" height=\"100.0\" viewBox=\"-81.14835114619993 31.9502311438 0.025209573399976648 0.04028011740007287\" preserveAspectRatio=\"xMinYMin meet\"><g transform=\"matrix(1,0,0,-1,0,63.94074240500007)\"><path fill-rule=\"evenodd\" fill=\"#66cc99\" stroke=\"#555555\" stroke-width=\"0.0008056023480014574\" opacity=\"0.6\" d=\"M -81.14335978699994,31.96604905600002 L -81.14319339499994,31.966544329000037 L -81.13860198799993,31.96733240600002 L -81.13836895899998,31.967950700000067 L -81.13751695299996,31.97105578700006 L -81.13733975099993,31.97099833500004 L -81.13388494399996,31.969902224000055 L -81.13384194299992,31.97011793500007 L -81.13284256899998,31.973520564000058 L -81.13241687599995,31.97462027100004 L -81.14355490299992,31.97785594200007 L -81.14286961799995,31.97983565300006 L -81.14074551699996,31.97923963000005 L -81.13954626899992,31.979039755000024 L -81.13806148499997,31.97898264800005 L -81.13703355799997,31.979268184000023 L -81.13606273799994,31.97963937900004 L -81.13494914999993,31.98026755700004 L -81.13414965199995,31.980981396000054 L -81.13349291999995,31.981752341000053 L -81.13275052899995,31.98326567800006 L -81.13094213799995,31.98901940500007 L -81.12885582699991,31.98817688600007 L -81.12984444799996,31.984632647000062 L -81.12463342899996,31.982943229000046 L -81.12541865099995,31.979778546000027 L -81.12579936499996,31.978374664000054 L -81.12603731099993,31.977565648000045 L -81.12627525699995,31.976661452000023 L -81.1267987379999,31.974448554000038 L -81.12667976499993,31.973377796000076 L -81.12601351599993,31.972021503000057 L -81.12499034799997,31.971045924000055 L -81.12465722299996,31.970831773000036 L -81.125504,31.967951 L -81.125689,31.967035 L -81.125835,31.9663 L -81.125867,31.966207 L -81.126846,31.963315 L -81.126861,31.963149 L -81.127546,31.96329 L -81.127796,31.963341 L -81.127989,31.9634 L -81.129178,31.963838 L -81.13102,31.964538 L -81.131519,31.964729 L -81.134964,31.965998 L -81.135126,31.966026 L -81.135773,31.964289 L -81.135773,31.964193 L -81.135593,31.964113 L -81.133736,31.963574 L -81.13374,31.963533 L -81.133836,31.962574 L -81.133808,31.961635 L -81.13352,31.961535 L -81.132929,31.961323 L -81.132682,31.961235 L -81.132405,31.961131 L -81.132494,31.960648 L -81.132523,31.960474 L -81.132487,31.960269 L -81.132416,31.960064 L -81.132566,31.959776 L -81.132841,31.958788 L -81.132928,31.958648 L -81.13295,31.958443 L -81.132706,31.95826 L -81.132512,31.958097 L -81.13244,31.957954 L -81.132666,31.957483 L -81.132767,31.957256 L -81.132868,31.956989 L -81.132871,31.956619 L -81.132555,31.95652 L -81.132349,31.956459 L -81.132166,31.9564 L -81.131874,31.956176 L -81.131549,31.955696 L -81.131542,31.955027 L -81.129991,31.953405 L -81.13073,31.952951 L -81.132014,31.951723 L -81.14685928999992,31.955750099000046 L -81.14335978699994,31.96604905600002 z\" /></g></svg>"
      ],
      "text/plain": [
       "<shapely.geometry.polygon.Polygon at 0x167948b70>"
      ]
     },
     "execution_count": 39,
     "metadata": {},
     "output_type": "execute_result"
    }
   ],
   "source": [
    "zillow.geometry[39]"
   ]
  },
  {
   "cell_type": "code",
   "execution_count": 40,
   "metadata": {},
   "outputs": [
    {
     "name": "stdout",
     "output_type": "stream",
     "text": [
      "Requirement already satisfied: shapely in /Users/janeliang/anaconda3/lib/python3.6/site-packages (1.6.4.post2)\r\n"
     ]
    }
   ],
   "source": [
    "!pip install shapely"
   ]
  },
  {
   "cell_type": "code",
   "execution_count": 41,
   "metadata": {},
   "outputs": [],
   "source": [
    "df['geometry'] = list(zip(df.longitude, df.latitude))\n",
    "df['geometry'] = df['geometry'].apply(lambda x: Point(x)) "
   ]
  },
  {
   "cell_type": "code",
   "execution_count": 42,
   "metadata": {},
   "outputs": [],
   "source": [
    "zillow_geo = gpd.GeoDataFrame(zillow[['regionid','geometry']])\n",
    "yelp_geo = gpd.GeoDataFrame(df[['business_id','geometry']]) "
   ]
  },
  {
   "cell_type": "code",
   "execution_count": 43,
   "metadata": {},
   "outputs": [],
   "source": [
    "zillow_geo.dropna(inplace=True)"
   ]
  },
  {
   "cell_type": "code",
   "execution_count": 44,
   "metadata": {},
   "outputs": [
    {
     "data": {
      "text/html": [
       "<div>\n",
       "<style scoped>\n",
       "    .dataframe tbody tr th:only-of-type {\n",
       "        vertical-align: middle;\n",
       "    }\n",
       "\n",
       "    .dataframe tbody tr th {\n",
       "        vertical-align: top;\n",
       "    }\n",
       "\n",
       "    .dataframe thead th {\n",
       "        text-align: right;\n",
       "    }\n",
       "</style>\n",
       "<table border=\"1\" class=\"dataframe\">\n",
       "  <thead>\n",
       "    <tr style=\"text-align: right;\">\n",
       "      <th></th>\n",
       "      <th>business_id</th>\n",
       "      <th>geometry</th>\n",
       "    </tr>\n",
       "  </thead>\n",
       "  <tbody>\n",
       "    <tr>\n",
       "      <th>0</th>\n",
       "      <td>45bWSZtniwPRiqlivpS8Og</td>\n",
       "      <td>POINT (-112.0300171 33.6713751)</td>\n",
       "    </tr>\n",
       "    <tr>\n",
       "      <th>1</th>\n",
       "      <td>_c3ixq9jYKxhLUB0czi0ug</td>\n",
       "      <td>POINT (-112.0911877 33.4798071)</td>\n",
       "    </tr>\n",
       "    <tr>\n",
       "      <th>2</th>\n",
       "      <td>3ByGQOVgds2YEu6kzl-XEQ</td>\n",
       "      <td>POINT (-112.2360764 33.4952976)</td>\n",
       "    </tr>\n",
       "    <tr>\n",
       "      <th>3</th>\n",
       "      <td>CeuTRtwsq6w5rztGOyNMPg</td>\n",
       "      <td>POINT (-112.2251729 33.4796712)</td>\n",
       "    </tr>\n",
       "    <tr>\n",
       "      <th>4</th>\n",
       "      <td>AcGRSWCpb7YB95MTsHlGEw</td>\n",
       "      <td>POINT (-112.235797843 33.4954215852)</td>\n",
       "    </tr>\n",
       "  </tbody>\n",
       "</table>\n",
       "</div>"
      ],
      "text/plain": [
       "              business_id                              geometry\n",
       "0  45bWSZtniwPRiqlivpS8Og       POINT (-112.0300171 33.6713751)\n",
       "1  _c3ixq9jYKxhLUB0czi0ug       POINT (-112.0911877 33.4798071)\n",
       "2  3ByGQOVgds2YEu6kzl-XEQ       POINT (-112.2360764 33.4952976)\n",
       "3  CeuTRtwsq6w5rztGOyNMPg       POINT (-112.2251729 33.4796712)\n",
       "4  AcGRSWCpb7YB95MTsHlGEw  POINT (-112.235797843 33.4954215852)"
      ]
     },
     "execution_count": 44,
     "metadata": {},
     "output_type": "execute_result"
    }
   ],
   "source": [
    "yelp_geo.head()"
   ]
  },
  {
   "cell_type": "code",
   "execution_count": 45,
   "metadata": {},
   "outputs": [
    {
     "data": {
      "image/svg+xml": [
       "<svg xmlns=\"http://www.w3.org/2000/svg\" xmlns:xlink=\"http://www.w3.org/1999/xlink\" width=\"100.0\" height=\"100.0\" viewBox=\"-113.0911877 32.4798071 2.0 2.0\" preserveAspectRatio=\"xMinYMin meet\"><g transform=\"matrix(1,0,0,-1,0,66.9596142)\"><circle cx=\"-112.0911877\" cy=\"33.4798071\" r=\"0.06\" stroke=\"#555555\" stroke-width=\"0.02\" fill=\"#66cc99\" opacity=\"0.6\" /></g></svg>"
      ],
      "text/plain": [
       "<shapely.geometry.point.Point at 0x16793ebe0>"
      ]
     },
     "execution_count": 45,
     "metadata": {},
     "output_type": "execute_result"
    }
   ],
   "source": [
    "yelp_geo.geometry[1]"
   ]
  },
  {
   "cell_type": "code",
   "execution_count": 46,
   "metadata": {
    "scrolled": false
   },
   "outputs": [],
   "source": [
    "merged_geos = gpd.sjoin(yelp_geo, zillow_geo, op='within',how='left').fillna('NoNeighborhood')"
   ]
  },
  {
   "cell_type": "code",
   "execution_count": 48,
   "metadata": {},
   "outputs": [
    {
     "data": {
      "text/html": [
       "<div>\n",
       "<style scoped>\n",
       "    .dataframe tbody tr th:only-of-type {\n",
       "        vertical-align: middle;\n",
       "    }\n",
       "\n",
       "    .dataframe tbody tr th {\n",
       "        vertical-align: top;\n",
       "    }\n",
       "\n",
       "    .dataframe thead th {\n",
       "        text-align: right;\n",
       "    }\n",
       "</style>\n",
       "<table border=\"1\" class=\"dataframe\">\n",
       "  <thead>\n",
       "    <tr style=\"text-align: right;\">\n",
       "      <th></th>\n",
       "      <th>business_id</th>\n",
       "      <th>geometry</th>\n",
       "      <th>index_right</th>\n",
       "      <th>regionid</th>\n",
       "    </tr>\n",
       "  </thead>\n",
       "  <tbody>\n",
       "    <tr>\n",
       "      <th>0</th>\n",
       "      <td>45bWSZtniwPRiqlivpS8Og</td>\n",
       "      <td>POINT (-112.0300171 33.6713751)</td>\n",
       "      <td>2081</td>\n",
       "      <td>112547</td>\n",
       "    </tr>\n",
       "    <tr>\n",
       "      <th>1</th>\n",
       "      <td>_c3ixq9jYKxhLUB0czi0ug</td>\n",
       "      <td>POINT (-112.0911877 33.4798071)</td>\n",
       "      <td>6978</td>\n",
       "      <td>267926</td>\n",
       "    </tr>\n",
       "    <tr>\n",
       "      <th>2</th>\n",
       "      <td>3ByGQOVgds2YEu6kzl-XEQ</td>\n",
       "      <td>POINT (-112.2360764 33.4952976)</td>\n",
       "      <td>6092</td>\n",
       "      <td>112345</td>\n",
       "    </tr>\n",
       "    <tr>\n",
       "      <th>3</th>\n",
       "      <td>CeuTRtwsq6w5rztGOyNMPg</td>\n",
       "      <td>POINT (-112.2251729 33.4796712)</td>\n",
       "      <td>6092</td>\n",
       "      <td>112345</td>\n",
       "    </tr>\n",
       "    <tr>\n",
       "      <th>4</th>\n",
       "      <td>AcGRSWCpb7YB95MTsHlGEw</td>\n",
       "      <td>POINT (-112.235797843 33.4954215852)</td>\n",
       "      <td>6092</td>\n",
       "      <td>112345</td>\n",
       "    </tr>\n",
       "  </tbody>\n",
       "</table>\n",
       "</div>"
      ],
      "text/plain": [
       "              business_id                              geometry index_right  \\\n",
       "0  45bWSZtniwPRiqlivpS8Og       POINT (-112.0300171 33.6713751)        2081   \n",
       "1  _c3ixq9jYKxhLUB0czi0ug       POINT (-112.0911877 33.4798071)        6978   \n",
       "2  3ByGQOVgds2YEu6kzl-XEQ       POINT (-112.2360764 33.4952976)        6092   \n",
       "3  CeuTRtwsq6w5rztGOyNMPg       POINT (-112.2251729 33.4796712)        6092   \n",
       "4  AcGRSWCpb7YB95MTsHlGEw  POINT (-112.235797843 33.4954215852)        6092   \n",
       "\n",
       "  regionid  \n",
       "0   112547  \n",
       "1   267926  \n",
       "2   112345  \n",
       "3   112345  \n",
       "4   112345  "
      ]
     },
     "execution_count": 48,
     "metadata": {},
     "output_type": "execute_result"
    }
   ],
   "source": [
    "merged_geos.head()"
   ]
  },
  {
   "cell_type": "code",
   "execution_count": 49,
   "metadata": {},
   "outputs": [],
   "source": [
    "merged_geo = pd.DataFrame(merged_geos[['business_id','regionid']])"
   ]
  },
  {
   "cell_type": "code",
   "execution_count": 50,
   "metadata": {},
   "outputs": [
    {
     "data": {
      "text/html": [
       "<div>\n",
       "<style scoped>\n",
       "    .dataframe tbody tr th:only-of-type {\n",
       "        vertical-align: middle;\n",
       "    }\n",
       "\n",
       "    .dataframe tbody tr th {\n",
       "        vertical-align: top;\n",
       "    }\n",
       "\n",
       "    .dataframe thead th {\n",
       "        text-align: right;\n",
       "    }\n",
       "</style>\n",
       "<table border=\"1\" class=\"dataframe\">\n",
       "  <thead>\n",
       "    <tr style=\"text-align: right;\">\n",
       "      <th></th>\n",
       "      <th>index</th>\n",
       "      <th>business_id</th>\n",
       "      <th>categories</th>\n",
       "      <th>latitude</th>\n",
       "      <th>longitude</th>\n",
       "      <th>name</th>\n",
       "      <th>postal_code</th>\n",
       "      <th>dollar</th>\n",
       "      <th>geometry</th>\n",
       "      <th>regionid</th>\n",
       "    </tr>\n",
       "  </thead>\n",
       "  <tbody>\n",
       "    <tr>\n",
       "      <th>0</th>\n",
       "      <td>1</td>\n",
       "      <td>45bWSZtniwPRiqlivpS8Og</td>\n",
       "      <td>Coffee &amp; Tea, Food</td>\n",
       "      <td>33.671375</td>\n",
       "      <td>-112.030017</td>\n",
       "      <td>The Coffee Bean &amp; Tea Leaf</td>\n",
       "      <td>85024</td>\n",
       "      <td>1</td>\n",
       "      <td>POINT (-112.0300171 33.6713751)</td>\n",
       "      <td>112547</td>\n",
       "    </tr>\n",
       "    <tr>\n",
       "      <th>1</th>\n",
       "      <td>2</td>\n",
       "      <td>_c3ixq9jYKxhLUB0czi0ug</td>\n",
       "      <td>Bars, Sports Bars, Dive Bars, Burgers, Nightli...</td>\n",
       "      <td>33.479807</td>\n",
       "      <td>-112.091188</td>\n",
       "      <td>Original Hamburger Works</td>\n",
       "      <td>85007</td>\n",
       "      <td>1</td>\n",
       "      <td>POINT (-112.0911877 33.4798071)</td>\n",
       "      <td>267926</td>\n",
       "    </tr>\n",
       "    <tr>\n",
       "      <th>2</th>\n",
       "      <td>3</td>\n",
       "      <td>3ByGQOVgds2YEu6kzl-XEQ</td>\n",
       "      <td>Nightlife, Bars, American (Traditional), Sport...</td>\n",
       "      <td>33.495298</td>\n",
       "      <td>-112.236076</td>\n",
       "      <td>Rib Shop</td>\n",
       "      <td>85033</td>\n",
       "      <td>1</td>\n",
       "      <td>POINT (-112.2360764 33.4952976)</td>\n",
       "      <td>112345</td>\n",
       "    </tr>\n",
       "    <tr>\n",
       "      <th>3</th>\n",
       "      <td>4</td>\n",
       "      <td>CeuTRtwsq6w5rztGOyNMPg</td>\n",
       "      <td>Mexican, Restaurants</td>\n",
       "      <td>33.479671</td>\n",
       "      <td>-112.225173</td>\n",
       "      <td>Salsitas</td>\n",
       "      <td>85033</td>\n",
       "      <td>1</td>\n",
       "      <td>POINT (-112.2251729 33.4796712)</td>\n",
       "      <td>112345</td>\n",
       "    </tr>\n",
       "    <tr>\n",
       "      <th>4</th>\n",
       "      <td>6</td>\n",
       "      <td>AcGRSWCpb7YB95MTsHlGEw</td>\n",
       "      <td>Pizza, Fast Food, Restaurants</td>\n",
       "      <td>33.495422</td>\n",
       "      <td>-112.235798</td>\n",
       "      <td>Little Caesars Pizza</td>\n",
       "      <td>85033</td>\n",
       "      <td>1</td>\n",
       "      <td>POINT (-112.235797843 33.4954215852)</td>\n",
       "      <td>112345</td>\n",
       "    </tr>\n",
       "    <tr>\n",
       "      <th>5</th>\n",
       "      <td>8</td>\n",
       "      <td>cKRMmytHxaSt8F0SMEzKqg</td>\n",
       "      <td>Event Planning &amp; Services, Soup, Salad, Mexica...</td>\n",
       "      <td>33.639774</td>\n",
       "      <td>-112.087738</td>\n",
       "      <td>Manuel's Mexican Restaurant &amp; Cantina - Bell Rd</td>\n",
       "      <td>85023</td>\n",
       "      <td>2</td>\n",
       "      <td>POINT (-112.0877381 33.6397742)</td>\n",
       "      <td>111818</td>\n",
       "    </tr>\n",
       "    <tr>\n",
       "      <th>6</th>\n",
       "      <td>9</td>\n",
       "      <td>dYBF1MFzxo6DehQVYsjxXA</td>\n",
       "      <td>Beauty &amp; Spas, Makeup Artists, Hair Salons, Ey...</td>\n",
       "      <td>33.406453</td>\n",
       "      <td>-112.280777</td>\n",
       "      <td>Makeupbygaby1974</td>\n",
       "      <td>85353</td>\n",
       "      <td>2</td>\n",
       "      <td>POINT (-112.2807774 33.406453)</td>\n",
       "      <td>273652</td>\n",
       "    </tr>\n",
       "    <tr>\n",
       "      <th>7</th>\n",
       "      <td>11</td>\n",
       "      <td>qBd6uxX63lQuM7lzJ_Xihg</td>\n",
       "      <td>Beer, Wine &amp; Spirits, Food</td>\n",
       "      <td>33.480792</td>\n",
       "      <td>-112.150881</td>\n",
       "      <td>Jack's Liquor</td>\n",
       "      <td>85019</td>\n",
       "      <td>2</td>\n",
       "      <td>POINT (-112.1508807 33.4807922)</td>\n",
       "      <td>112345</td>\n",
       "    </tr>\n",
       "    <tr>\n",
       "      <th>8</th>\n",
       "      <td>14</td>\n",
       "      <td>HHjQWysnOJiW2qYQR-SSJQ</td>\n",
       "      <td>Discount Store, Wholesale Stores, Shopping, Ou...</td>\n",
       "      <td>33.445514</td>\n",
       "      <td>-112.032068</td>\n",
       "      <td>Bargain Store Equipment</td>\n",
       "      <td>85034</td>\n",
       "      <td>2</td>\n",
       "      <td>POINT (-112.0320681 33.4455139)</td>\n",
       "      <td>267912</td>\n",
       "    </tr>\n",
       "    <tr>\n",
       "      <th>9</th>\n",
       "      <td>19</td>\n",
       "      <td>8vA1d9_w4hBjOcrM7mNWFg</td>\n",
       "      <td>American (Traditional), Comfort Food, Barbeque...</td>\n",
       "      <td>33.320252</td>\n",
       "      <td>-111.982873</td>\n",
       "      <td>Boston Market</td>\n",
       "      <td>85044</td>\n",
       "      <td>1</td>\n",
       "      <td>POINT (-111.9828733 33.3202518)</td>\n",
       "      <td>267900</td>\n",
       "    </tr>\n",
       "    <tr>\n",
       "      <th>10</th>\n",
       "      <td>24</td>\n",
       "      <td>QJhV0FaJVcYUP7IH5s3KYQ</td>\n",
       "      <td>Barbers, Beauty &amp; Spas, Hair Stylists, Hair Sa...</td>\n",
       "      <td>33.639064</td>\n",
       "      <td>-112.066128</td>\n",
       "      <td>Cool Cuts 4 Kids</td>\n",
       "      <td>85023</td>\n",
       "      <td>2</td>\n",
       "      <td>POINT (-112.066128 33.639064)</td>\n",
       "      <td>111818</td>\n",
       "    </tr>\n",
       "    <tr>\n",
       "      <th>11</th>\n",
       "      <td>26</td>\n",
       "      <td>xnJl1DcMULTTzY21IedDkw</td>\n",
       "      <td>Professional Services, Internet Service Provid...</td>\n",
       "      <td>33.321201</td>\n",
       "      <td>-111.979469</td>\n",
       "      <td>Verizon Authorized Retailer - GoWireless</td>\n",
       "      <td>85044</td>\n",
       "      <td>2</td>\n",
       "      <td>POINT (-111.979469061 33.3212006033)</td>\n",
       "      <td>267900</td>\n",
       "    </tr>\n",
       "    <tr>\n",
       "      <th>12</th>\n",
       "      <td>30</td>\n",
       "      <td>sh69ApUyPhAltAMpv5vX3w</td>\n",
       "      <td>Mexican, Restaurants</td>\n",
       "      <td>33.457388</td>\n",
       "      <td>-112.089730</td>\n",
       "      <td>Barrio Cafe Gran Reserva</td>\n",
       "      <td>85007</td>\n",
       "      <td>2</td>\n",
       "      <td>POINT (-112.0897301 33.4573881)</td>\n",
       "      <td>267912</td>\n",
       "    </tr>\n",
       "    <tr>\n",
       "      <th>13</th>\n",
       "      <td>32</td>\n",
       "      <td>C4eRHCr7u-cv8B7OaMQKsg</td>\n",
       "      <td>Mexican, Breakfast &amp; Brunch, Sandwiches, Event...</td>\n",
       "      <td>33.449967</td>\n",
       "      <td>-112.070222</td>\n",
       "      <td>Quickies Mobile Foods</td>\n",
       "      <td>85001</td>\n",
       "      <td>1</td>\n",
       "      <td>POINT (-112.0702225 33.4499672)</td>\n",
       "      <td>267912</td>\n",
       "    </tr>\n",
       "    <tr>\n",
       "      <th>14</th>\n",
       "      <td>33</td>\n",
       "      <td>bVl0_l6sCwjADKRLGxsXAw</td>\n",
       "      <td>Fast Food, Restaurants, Sandwiches, American (...</td>\n",
       "      <td>33.641684</td>\n",
       "      <td>-111.977000</td>\n",
       "      <td>Arby's</td>\n",
       "      <td>85032</td>\n",
       "      <td>1</td>\n",
       "      <td>POINT (-111.977 33.641684)</td>\n",
       "      <td>112547</td>\n",
       "    </tr>\n",
       "    <tr>\n",
       "      <th>15</th>\n",
       "      <td>34</td>\n",
       "      <td>7DBu4i4sN9I8HWS3YaxArA</td>\n",
       "      <td>Coffee &amp; Tea, Food</td>\n",
       "      <td>33.610201</td>\n",
       "      <td>-112.014932</td>\n",
       "      <td>Starbucks</td>\n",
       "      <td>85032</td>\n",
       "      <td>2</td>\n",
       "      <td>POINT (-112.0149317 33.6102008)</td>\n",
       "      <td>112547</td>\n",
       "    </tr>\n",
       "    <tr>\n",
       "      <th>16</th>\n",
       "      <td>36</td>\n",
       "      <td>7euZlR04G2jUEJDVhOxDQQ</td>\n",
       "      <td>Eyewear &amp; Opticians, Health &amp; Medical, Optomet...</td>\n",
       "      <td>33.583966</td>\n",
       "      <td>-111.974232</td>\n",
       "      <td>Nationwide Vision Centers</td>\n",
       "      <td>85028</td>\n",
       "      <td>2</td>\n",
       "      <td>POINT (-111.974232 33.5839659)</td>\n",
       "      <td>112547</td>\n",
       "    </tr>\n",
       "    <tr>\n",
       "      <th>17</th>\n",
       "      <td>39</td>\n",
       "      <td>iiUhGGTFoblXBuPmcpKxfg</td>\n",
       "      <td>Men's Hair Salons, Barbers, Beauty &amp; Spas, Hai...</td>\n",
       "      <td>33.639502</td>\n",
       "      <td>-112.032791</td>\n",
       "      <td>Mr Nates Barber Shop</td>\n",
       "      <td>85032</td>\n",
       "      <td>1</td>\n",
       "      <td>POINT (-112.032791262 33.6395017082)</td>\n",
       "      <td>112547</td>\n",
       "    </tr>\n",
       "    <tr>\n",
       "      <th>18</th>\n",
       "      <td>40</td>\n",
       "      <td>wcNvlrB5xSxzXex2M3UyvQ</td>\n",
       "      <td>Nightlife, Sports Bars, Bars, Restaurants, Kar...</td>\n",
       "      <td>33.495640</td>\n",
       "      <td>-112.003174</td>\n",
       "      <td>Hazelwoods First Place Sports Grill</td>\n",
       "      <td>85018</td>\n",
       "      <td>1</td>\n",
       "      <td>POINT (-112.003173828 33.495639801)</td>\n",
       "      <td>267908</td>\n",
       "    </tr>\n",
       "    <tr>\n",
       "      <th>19</th>\n",
       "      <td>42</td>\n",
       "      <td>vFnzV9uy9nEXFQgkSuv_AQ</td>\n",
       "      <td>Indian, Pakistani, Restaurants</td>\n",
       "      <td>33.639828</td>\n",
       "      <td>-112.047224</td>\n",
       "      <td>Taste of India</td>\n",
       "      <td>85022</td>\n",
       "      <td>2</td>\n",
       "      <td>POINT (-112.0472243 33.6398283)</td>\n",
       "      <td>112547</td>\n",
       "    </tr>\n",
       "    <tr>\n",
       "      <th>20</th>\n",
       "      <td>43</td>\n",
       "      <td>BUcyHikUyo4U12-3RvDKlg</td>\n",
       "      <td>Restaurants, Breakfast &amp; Brunch, Food, Bakeries</td>\n",
       "      <td>33.640054</td>\n",
       "      <td>-112.067994</td>\n",
       "      <td>Paradise Bakery and Cafe</td>\n",
       "      <td>85022</td>\n",
       "      <td>2</td>\n",
       "      <td>POINT (-112.067994484 33.6400536994)</td>\n",
       "      <td>111818</td>\n",
       "    </tr>\n",
       "    <tr>\n",
       "      <th>21</th>\n",
       "      <td>46</td>\n",
       "      <td>tL6rh1rCig6hMrBkzmc5RA</td>\n",
       "      <td>Beauty &amp; Spas, Barbers, Kids Hair Salons, Men'...</td>\n",
       "      <td>33.466140</td>\n",
       "      <td>-112.082168</td>\n",
       "      <td>Bishops Cuts/Color</td>\n",
       "      <td>85003</td>\n",
       "      <td>2</td>\n",
       "      <td>POINT (-112.0821683 33.4661401)</td>\n",
       "      <td>267926</td>\n",
       "    </tr>\n",
       "    <tr>\n",
       "      <th>22</th>\n",
       "      <td>54</td>\n",
       "      <td>7mY9zU_gSyOUqlaTGGMxiA</td>\n",
       "      <td>Home &amp; Garden, Shopping, Flowers &amp; Gifts, Home...</td>\n",
       "      <td>33.513506</td>\n",
       "      <td>-112.065326</td>\n",
       "      <td>Vignettes</td>\n",
       "      <td>85014</td>\n",
       "      <td>2</td>\n",
       "      <td>POINT (-112.0653262 33.5135055)</td>\n",
       "      <td>272734</td>\n",
       "    </tr>\n",
       "    <tr>\n",
       "      <th>23</th>\n",
       "      <td>55</td>\n",
       "      <td>nUaLFTfUqVKMFQonsWBnag</td>\n",
       "      <td>Restaurants, Food, Bakeries, Grocery, Delis, B...</td>\n",
       "      <td>33.580882</td>\n",
       "      <td>-111.978891</td>\n",
       "      <td>Fry's</td>\n",
       "      <td>85028</td>\n",
       "      <td>2</td>\n",
       "      <td>POINT (-111.978891 33.580882)</td>\n",
       "      <td>112547</td>\n",
       "    </tr>\n",
       "    <tr>\n",
       "      <th>24</th>\n",
       "      <td>56</td>\n",
       "      <td>CMXR8av0Ps6-1SsXD_fQ-Q</td>\n",
       "      <td>Used, Vintage &amp; Consignment, Swimwear, Fashion...</td>\n",
       "      <td>33.459432</td>\n",
       "      <td>-112.067664</td>\n",
       "      <td>VOX Curvy Couture</td>\n",
       "      <td>85004</td>\n",
       "      <td>2</td>\n",
       "      <td>POINT (-112.067664371 33.459432061)</td>\n",
       "      <td>267912</td>\n",
       "    </tr>\n",
       "    <tr>\n",
       "      <th>25</th>\n",
       "      <td>57</td>\n",
       "      <td>QKMMLQ4HZ949aeheJ1G8fQ</td>\n",
       "      <td>Shoe Repair, Laundry Services, Dry Cleaning, L...</td>\n",
       "      <td>33.869666</td>\n",
       "      <td>-112.151070</td>\n",
       "      <td>Spots Dry Cleaning</td>\n",
       "      <td>85086</td>\n",
       "      <td>2</td>\n",
       "      <td>POINT (-112.15107 33.869666)</td>\n",
       "      <td>274667</td>\n",
       "    </tr>\n",
       "    <tr>\n",
       "      <th>26</th>\n",
       "      <td>60</td>\n",
       "      <td>2Ddq3QYbytmY9P2ihRQ3TA</td>\n",
       "      <td>Shopping, Drugstores</td>\n",
       "      <td>33.581178</td>\n",
       "      <td>-112.128645</td>\n",
       "      <td>S &amp; G Pharmacy</td>\n",
       "      <td>85029</td>\n",
       "      <td>1</td>\n",
       "      <td>POINT (-112.1286448 33.5811777)</td>\n",
       "      <td>267955</td>\n",
       "    </tr>\n",
       "    <tr>\n",
       "      <th>27</th>\n",
       "      <td>62</td>\n",
       "      <td>fnaDx7UD4MiodQlgYHDwsQ</td>\n",
       "      <td>Restaurants, Chinese</td>\n",
       "      <td>33.612485</td>\n",
       "      <td>-112.012193</td>\n",
       "      <td>Dragon Palace</td>\n",
       "      <td>85032</td>\n",
       "      <td>2</td>\n",
       "      <td>POINT (-112.012193 33.6124852)</td>\n",
       "      <td>112547</td>\n",
       "    </tr>\n",
       "    <tr>\n",
       "      <th>28</th>\n",
       "      <td>68</td>\n",
       "      <td>fXzMs__3HjTYwKPMAb4jYA</td>\n",
       "      <td>Thai, Restaurants</td>\n",
       "      <td>33.641201</td>\n",
       "      <td>-112.006728</td>\n",
       "      <td>Tom Yum Thai Restaurant</td>\n",
       "      <td>85032</td>\n",
       "      <td>2</td>\n",
       "      <td>POINT (-112.0067284 33.641201)</td>\n",
       "      <td>112547</td>\n",
       "    </tr>\n",
       "    <tr>\n",
       "      <th>29</th>\n",
       "      <td>69</td>\n",
       "      <td>cHa74FO5t8hNYGwq2IQW7w</td>\n",
       "      <td>Grocery, Food</td>\n",
       "      <td>33.627232</td>\n",
       "      <td>-112.012115</td>\n",
       "      <td>Food City</td>\n",
       "      <td>85032</td>\n",
       "      <td>1</td>\n",
       "      <td>POINT (-112.0121147 33.6272318)</td>\n",
       "      <td>112547</td>\n",
       "    </tr>\n",
       "    <tr>\n",
       "      <th>...</th>\n",
       "      <td>...</td>\n",
       "      <td>...</td>\n",
       "      <td>...</td>\n",
       "      <td>...</td>\n",
       "      <td>...</td>\n",
       "      <td>...</td>\n",
       "      <td>...</td>\n",
       "      <td>...</td>\n",
       "      <td>...</td>\n",
       "      <td>...</td>\n",
       "    </tr>\n",
       "    <tr>\n",
       "      <th>8411</th>\n",
       "      <td>18570</td>\n",
       "      <td>uemVyCMnYsGjULyrFZ9mFQ</td>\n",
       "      <td>Shopping, Event Planning &amp; Services, Paint-You...</td>\n",
       "      <td>33.666700</td>\n",
       "      <td>-112.123308</td>\n",
       "      <td>As You Wish Pottery Painting Place</td>\n",
       "      <td>85027</td>\n",
       "      <td>2</td>\n",
       "      <td>POINT (-112.1233078 33.6666997)</td>\n",
       "      <td>111818</td>\n",
       "    </tr>\n",
       "    <tr>\n",
       "      <th>8412</th>\n",
       "      <td>18573</td>\n",
       "      <td>tIOjJWfu4Dqz-FIzXHRvCg</td>\n",
       "      <td>Fast Food, Restaurants, Food, Salad</td>\n",
       "      <td>33.523694</td>\n",
       "      <td>-112.064375</td>\n",
       "      <td>Salad and Go</td>\n",
       "      <td>85014</td>\n",
       "      <td>1</td>\n",
       "      <td>POINT (-112.064375058 33.5236942821)</td>\n",
       "      <td>267908</td>\n",
       "    </tr>\n",
       "    <tr>\n",
       "      <th>8413</th>\n",
       "      <td>18575</td>\n",
       "      <td>9rLhoxB3hyWA94sVgukwlA</td>\n",
       "      <td>Shopping Centers, Shopping</td>\n",
       "      <td>33.602876</td>\n",
       "      <td>-112.100667</td>\n",
       "      <td>Paradise Village</td>\n",
       "      <td>85029</td>\n",
       "      <td>2</td>\n",
       "      <td>POINT (-112.1006673 33.6028763)</td>\n",
       "      <td>267955</td>\n",
       "    </tr>\n",
       "    <tr>\n",
       "      <th>8414</th>\n",
       "      <td>18577</td>\n",
       "      <td>niqIaJy9UXu-DS7BIUvUoA</td>\n",
       "      <td>Sandwiches, Pizza, Food, Food Delivery Service...</td>\n",
       "      <td>33.596884</td>\n",
       "      <td>-112.135713</td>\n",
       "      <td>Pizza Divino</td>\n",
       "      <td>85029</td>\n",
       "      <td>1</td>\n",
       "      <td>POINT (-112.1357133 33.5968838)</td>\n",
       "      <td>267955</td>\n",
       "    </tr>\n",
       "    <tr>\n",
       "      <th>8415</th>\n",
       "      <td>18578</td>\n",
       "      <td>0PjS72Gpftbndc_56QYtUg</td>\n",
       "      <td>Food, Bakeries</td>\n",
       "      <td>33.567135</td>\n",
       "      <td>-112.082123</td>\n",
       "      <td>Pasteles Mary</td>\n",
       "      <td>85021</td>\n",
       "      <td>3</td>\n",
       "      <td>POINT (-112.0821235 33.567135)</td>\n",
       "      <td>267955</td>\n",
       "    </tr>\n",
       "    <tr>\n",
       "      <th>8416</th>\n",
       "      <td>18579</td>\n",
       "      <td>OgqZepyL6UesV6oHtdvI1A</td>\n",
       "      <td>Fashion, Shopping, Bridal</td>\n",
       "      <td>33.486686</td>\n",
       "      <td>-112.065333</td>\n",
       "      <td>Pearl Bridal</td>\n",
       "      <td>85014</td>\n",
       "      <td>2</td>\n",
       "      <td>POINT (-112.0653328 33.4866856)</td>\n",
       "      <td>267926</td>\n",
       "    </tr>\n",
       "    <tr>\n",
       "      <th>8417</th>\n",
       "      <td>18580</td>\n",
       "      <td>rMtphJbzFYA3eLx-AT62vA</td>\n",
       "      <td>Restaurants, Diners, American (Traditional), N...</td>\n",
       "      <td>33.509497</td>\n",
       "      <td>-112.065290</td>\n",
       "      <td>Denny's</td>\n",
       "      <td>85014</td>\n",
       "      <td>1</td>\n",
       "      <td>POINT (-112.065289682 33.5094973533)</td>\n",
       "      <td>272734</td>\n",
       "    </tr>\n",
       "    <tr>\n",
       "      <th>8418</th>\n",
       "      <td>18586</td>\n",
       "      <td>_7hhpjQHxjPi0gNzzMmO6g</td>\n",
       "      <td>Restaurants, Chinese, Buffets</td>\n",
       "      <td>33.393691</td>\n",
       "      <td>-112.073216</td>\n",
       "      <td>New Sun Star Super Buffet</td>\n",
       "      <td>85040</td>\n",
       "      <td>1</td>\n",
       "      <td>POINT (-112.0732157 33.3936908)</td>\n",
       "      <td>267971</td>\n",
       "    </tr>\n",
       "    <tr>\n",
       "      <th>8419</th>\n",
       "      <td>18588</td>\n",
       "      <td>4xqj4joZyqq-_-44dXVcdw</td>\n",
       "      <td>Local Services, Funeral Services &amp; Cemeteries,...</td>\n",
       "      <td>33.518912</td>\n",
       "      <td>-112.065213</td>\n",
       "      <td>Flowers by Joe Gregory</td>\n",
       "      <td>85014</td>\n",
       "      <td>2</td>\n",
       "      <td>POINT (-112.0652129 33.5189122)</td>\n",
       "      <td>272734</td>\n",
       "    </tr>\n",
       "    <tr>\n",
       "      <th>8420</th>\n",
       "      <td>18594</td>\n",
       "      <td>TOfthw3SAWmp7E1napR65w</td>\n",
       "      <td>Reflexology, Beauty &amp; Spas, Traditional Chines...</td>\n",
       "      <td>33.511433</td>\n",
       "      <td>-112.068503</td>\n",
       "      <td>The MassageMobile</td>\n",
       "      <td>85012</td>\n",
       "      <td>4</td>\n",
       "      <td>POINT (-112.0685027 33.5114334)</td>\n",
       "      <td>272734</td>\n",
       "    </tr>\n",
       "    <tr>\n",
       "      <th>8421</th>\n",
       "      <td>18595</td>\n",
       "      <td>hZgxNlArGoN0mWZvfCQWvA</td>\n",
       "      <td>Caterers, Restaurants, Breakfast &amp; Brunch, Eve...</td>\n",
       "      <td>33.493978</td>\n",
       "      <td>-112.072842</td>\n",
       "      <td>Plaza Cafe &amp; Grill</td>\n",
       "      <td>85012</td>\n",
       "      <td>1</td>\n",
       "      <td>POINT (-112.072842 33.493978)</td>\n",
       "      <td>267926</td>\n",
       "    </tr>\n",
       "    <tr>\n",
       "      <th>8422</th>\n",
       "      <td>18596</td>\n",
       "      <td>I5CKfLZ-hxriv5IzHLvNGQ</td>\n",
       "      <td>Cooking Schools, Education, American (New), Re...</td>\n",
       "      <td>33.486484</td>\n",
       "      <td>-112.086666</td>\n",
       "      <td>Café Oso</td>\n",
       "      <td>85013</td>\n",
       "      <td>2</td>\n",
       "      <td>POINT (-112.0866664 33.4864842)</td>\n",
       "      <td>267926</td>\n",
       "    </tr>\n",
       "    <tr>\n",
       "      <th>8423</th>\n",
       "      <td>18599</td>\n",
       "      <td>yjUgQXvycpnH9-lfBA2sgA</td>\n",
       "      <td>Fast Food, Mexican, Tex-Mex, Restaurants</td>\n",
       "      <td>33.567800</td>\n",
       "      <td>-112.099300</td>\n",
       "      <td>Taco Bell</td>\n",
       "      <td>85021</td>\n",
       "      <td>1</td>\n",
       "      <td>POINT (-112.0993 33.5678)</td>\n",
       "      <td>267955</td>\n",
       "    </tr>\n",
       "    <tr>\n",
       "      <th>8424</th>\n",
       "      <td>18600</td>\n",
       "      <td>JQYkVnUzS5vgFxZgCuW7ag</td>\n",
       "      <td>Food, Beer, Wine &amp; Spirits, Restaurants, Thai,...</td>\n",
       "      <td>33.495155</td>\n",
       "      <td>-112.082213</td>\n",
       "      <td>Thai E-San</td>\n",
       "      <td>85013</td>\n",
       "      <td>2</td>\n",
       "      <td>POINT (-112.0822129 33.4951554)</td>\n",
       "      <td>267926</td>\n",
       "    </tr>\n",
       "    <tr>\n",
       "      <th>8425</th>\n",
       "      <td>18601</td>\n",
       "      <td>W7fgRvyxdjr9v4YXLinZtQ</td>\n",
       "      <td>Restaurants, Hot Dogs</td>\n",
       "      <td>33.479972</td>\n",
       "      <td>-112.076662</td>\n",
       "      <td>Johnnie's Chicago Red Hots</td>\n",
       "      <td>85013</td>\n",
       "      <td>1</td>\n",
       "      <td>POINT (-112.0766623 33.4799723)</td>\n",
       "      <td>267926</td>\n",
       "    </tr>\n",
       "    <tr>\n",
       "      <th>8426</th>\n",
       "      <td>18605</td>\n",
       "      <td>5l8VDB6hXXm-uJP2_4SRMw</td>\n",
       "      <td>Food, Nightlife, Breakfast &amp; Brunch, Juice Bar...</td>\n",
       "      <td>33.517799</td>\n",
       "      <td>-112.065441</td>\n",
       "      <td>Farm &amp; Craft</td>\n",
       "      <td>85014</td>\n",
       "      <td>2</td>\n",
       "      <td>POINT (-112.0654413 33.5177994)</td>\n",
       "      <td>272734</td>\n",
       "    </tr>\n",
       "    <tr>\n",
       "      <th>8427</th>\n",
       "      <td>18607</td>\n",
       "      <td>QIKmpmC_Kasp1GMmyF_WEA</td>\n",
       "      <td>Fashion, Women's Clothing, Shopping, Jewelry, ...</td>\n",
       "      <td>33.495087</td>\n",
       "      <td>-111.989159</td>\n",
       "      <td>The Green Gurl</td>\n",
       "      <td>85018</td>\n",
       "      <td>2</td>\n",
       "      <td>POINT (-111.98915863 33.4950866699)</td>\n",
       "      <td>267908</td>\n",
       "    </tr>\n",
       "    <tr>\n",
       "      <th>8428</th>\n",
       "      <td>18609</td>\n",
       "      <td>jIDnLUpdKQCYtvT7wT7mJg</td>\n",
       "      <td>American (Traditional), Burgers, Sandwiches, R...</td>\n",
       "      <td>33.384455</td>\n",
       "      <td>-112.017174</td>\n",
       "      <td>Trails End Bar &amp; Grill</td>\n",
       "      <td>85042</td>\n",
       "      <td>2</td>\n",
       "      <td>POINT (-112.017174271 33.3844547202)</td>\n",
       "      <td>267971</td>\n",
       "    </tr>\n",
       "    <tr>\n",
       "      <th>8429</th>\n",
       "      <td>18610</td>\n",
       "      <td>5oeiMlQFtJFZV6H8qatznw</td>\n",
       "      <td>Restaurants, Salvadoran, Latin American</td>\n",
       "      <td>33.566128</td>\n",
       "      <td>-112.073393</td>\n",
       "      <td>Salvadoreño Restaurant</td>\n",
       "      <td>85020</td>\n",
       "      <td>1</td>\n",
       "      <td>POINT (-112.0733931 33.5661279)</td>\n",
       "      <td>267955</td>\n",
       "    </tr>\n",
       "    <tr>\n",
       "      <th>8430</th>\n",
       "      <td>18611</td>\n",
       "      <td>QYlmW2wkSziLUwQIdyZAww</td>\n",
       "      <td>Tanning, Active Life, Beauty &amp; Spas, Trainers,...</td>\n",
       "      <td>33.480656</td>\n",
       "      <td>-112.049512</td>\n",
       "      <td>Tangible Fitness</td>\n",
       "      <td>85014</td>\n",
       "      <td>2</td>\n",
       "      <td>POINT (-112.0495121 33.4806564)</td>\n",
       "      <td>267926</td>\n",
       "    </tr>\n",
       "    <tr>\n",
       "      <th>8431</th>\n",
       "      <td>18614</td>\n",
       "      <td>T1HBJyu_wNcpvsGlMHlODg</td>\n",
       "      <td>Jewelry Repair, Jewelry, Local Services, Gold ...</td>\n",
       "      <td>33.509789</td>\n",
       "      <td>-112.060910</td>\n",
       "      <td>Jewels &amp; Estate Gallery by G Darrell Olson</td>\n",
       "      <td>85014</td>\n",
       "      <td>2</td>\n",
       "      <td>POINT (-112.060909957 33.5097889751)</td>\n",
       "      <td>267908</td>\n",
       "    </tr>\n",
       "    <tr>\n",
       "      <th>8432</th>\n",
       "      <td>18615</td>\n",
       "      <td>oIDBQTsdWwsxN5WL2LLnkg</td>\n",
       "      <td>Shopping, Home &amp; Garden, Florists, Flowers &amp; G...</td>\n",
       "      <td>33.388453</td>\n",
       "      <td>-112.021885</td>\n",
       "      <td>The Plant Stand of Arizona</td>\n",
       "      <td>85042</td>\n",
       "      <td>2</td>\n",
       "      <td>POINT (-112.0218848 33.3884528)</td>\n",
       "      <td>267971</td>\n",
       "    </tr>\n",
       "    <tr>\n",
       "      <th>8433</th>\n",
       "      <td>18616</td>\n",
       "      <td>uLN_58N3QZGeUwSdBfTZ5A</td>\n",
       "      <td>Fast Food, Restaurants</td>\n",
       "      <td>33.378315</td>\n",
       "      <td>-112.031449</td>\n",
       "      <td>Jack in the Box</td>\n",
       "      <td>85042</td>\n",
       "      <td>1</td>\n",
       "      <td>POINT (-112.0314494 33.3783151)</td>\n",
       "      <td>267971</td>\n",
       "    </tr>\n",
       "    <tr>\n",
       "      <th>8434</th>\n",
       "      <td>18617</td>\n",
       "      <td>403dr0KtTbRibcWEA7h0WA</td>\n",
       "      <td>Restaurants, Mexican</td>\n",
       "      <td>33.449900</td>\n",
       "      <td>-112.073900</td>\n",
       "      <td>Ketzal Mexican Grill</td>\n",
       "      <td>85073</td>\n",
       "      <td>2</td>\n",
       "      <td>POINT (-112.0739 33.4499)</td>\n",
       "      <td>267912</td>\n",
       "    </tr>\n",
       "    <tr>\n",
       "      <th>8435</th>\n",
       "      <td>18620</td>\n",
       "      <td>7FVmE-kRcjG33M47tC3Qqg</td>\n",
       "      <td>Sporting Goods, Home Services, Movers, Pool &amp; ...</td>\n",
       "      <td>33.669862</td>\n",
       "      <td>-112.030859</td>\n",
       "      <td>Prestige Billiards</td>\n",
       "      <td>85027</td>\n",
       "      <td>2</td>\n",
       "      <td>POINT (-112.030859 33.6698624)</td>\n",
       "      <td>112547</td>\n",
       "    </tr>\n",
       "    <tr>\n",
       "      <th>8436</th>\n",
       "      <td>18621</td>\n",
       "      <td>muzZW1AqlfdWGMND0jf_kw</td>\n",
       "      <td>Pakistani, Indian, Afghan, Restaurants</td>\n",
       "      <td>33.466978</td>\n",
       "      <td>-111.995925</td>\n",
       "      <td>Hilal Grill</td>\n",
       "      <td>85008</td>\n",
       "      <td>2</td>\n",
       "      <td>POINT (-111.9959254 33.466978)</td>\n",
       "      <td>267908</td>\n",
       "    </tr>\n",
       "    <tr>\n",
       "      <th>8437</th>\n",
       "      <td>18623</td>\n",
       "      <td>wu9cORtxQWyVNrr0q7pLgw</td>\n",
       "      <td>Bagels, Food</td>\n",
       "      <td>33.583472</td>\n",
       "      <td>-111.976012</td>\n",
       "      <td>Einsteins Bagels</td>\n",
       "      <td>85028</td>\n",
       "      <td>1</td>\n",
       "      <td>POINT (-111.976011895 33.5834720349)</td>\n",
       "      <td>112547</td>\n",
       "    </tr>\n",
       "    <tr>\n",
       "      <th>8438</th>\n",
       "      <td>18626</td>\n",
       "      <td>IYedXxcwJJwxv-6DpMPvtA</td>\n",
       "      <td>Sushi Bars, Restaurants, Mexican</td>\n",
       "      <td>33.464078</td>\n",
       "      <td>-112.013154</td>\n",
       "      <td>Sushi Sonora</td>\n",
       "      <td>85008</td>\n",
       "      <td>2</td>\n",
       "      <td>POINT (-112.0131539 33.4640781)</td>\n",
       "      <td>267908</td>\n",
       "    </tr>\n",
       "    <tr>\n",
       "      <th>8439</th>\n",
       "      <td>18627</td>\n",
       "      <td>XS92emti6SnkE99_cvCAfQ</td>\n",
       "      <td>Nightlife</td>\n",
       "      <td>33.465883</td>\n",
       "      <td>-111.971526</td>\n",
       "      <td>Jugheads</td>\n",
       "      <td>85008</td>\n",
       "      <td>1</td>\n",
       "      <td>POINT (-111.971526 33.4658826)</td>\n",
       "      <td>267908</td>\n",
       "    </tr>\n",
       "    <tr>\n",
       "      <th>8440</th>\n",
       "      <td>18628</td>\n",
       "      <td>P4atiaghQt2lnMUtO-SLwQ</td>\n",
       "      <td>Restaurants, Fast Food, Sandwiches</td>\n",
       "      <td>33.480112</td>\n",
       "      <td>-112.012566</td>\n",
       "      <td>Subway</td>\n",
       "      <td>85018</td>\n",
       "      <td>1</td>\n",
       "      <td>POINT (-112.0125656 33.4801117)</td>\n",
       "      <td>267908</td>\n",
       "    </tr>\n",
       "  </tbody>\n",
       "</table>\n",
       "<p>8441 rows × 10 columns</p>\n",
       "</div>"
      ],
      "text/plain": [
       "      index             business_id  \\\n",
       "0         1  45bWSZtniwPRiqlivpS8Og   \n",
       "1         2  _c3ixq9jYKxhLUB0czi0ug   \n",
       "2         3  3ByGQOVgds2YEu6kzl-XEQ   \n",
       "3         4  CeuTRtwsq6w5rztGOyNMPg   \n",
       "4         6  AcGRSWCpb7YB95MTsHlGEw   \n",
       "5         8  cKRMmytHxaSt8F0SMEzKqg   \n",
       "6         9  dYBF1MFzxo6DehQVYsjxXA   \n",
       "7        11  qBd6uxX63lQuM7lzJ_Xihg   \n",
       "8        14  HHjQWysnOJiW2qYQR-SSJQ   \n",
       "9        19  8vA1d9_w4hBjOcrM7mNWFg   \n",
       "10       24  QJhV0FaJVcYUP7IH5s3KYQ   \n",
       "11       26  xnJl1DcMULTTzY21IedDkw   \n",
       "12       30  sh69ApUyPhAltAMpv5vX3w   \n",
       "13       32  C4eRHCr7u-cv8B7OaMQKsg   \n",
       "14       33  bVl0_l6sCwjADKRLGxsXAw   \n",
       "15       34  7DBu4i4sN9I8HWS3YaxArA   \n",
       "16       36  7euZlR04G2jUEJDVhOxDQQ   \n",
       "17       39  iiUhGGTFoblXBuPmcpKxfg   \n",
       "18       40  wcNvlrB5xSxzXex2M3UyvQ   \n",
       "19       42  vFnzV9uy9nEXFQgkSuv_AQ   \n",
       "20       43  BUcyHikUyo4U12-3RvDKlg   \n",
       "21       46  tL6rh1rCig6hMrBkzmc5RA   \n",
       "22       54  7mY9zU_gSyOUqlaTGGMxiA   \n",
       "23       55  nUaLFTfUqVKMFQonsWBnag   \n",
       "24       56  CMXR8av0Ps6-1SsXD_fQ-Q   \n",
       "25       57  QKMMLQ4HZ949aeheJ1G8fQ   \n",
       "26       60  2Ddq3QYbytmY9P2ihRQ3TA   \n",
       "27       62  fnaDx7UD4MiodQlgYHDwsQ   \n",
       "28       68  fXzMs__3HjTYwKPMAb4jYA   \n",
       "29       69  cHa74FO5t8hNYGwq2IQW7w   \n",
       "...     ...                     ...   \n",
       "8411  18570  uemVyCMnYsGjULyrFZ9mFQ   \n",
       "8412  18573  tIOjJWfu4Dqz-FIzXHRvCg   \n",
       "8413  18575  9rLhoxB3hyWA94sVgukwlA   \n",
       "8414  18577  niqIaJy9UXu-DS7BIUvUoA   \n",
       "8415  18578  0PjS72Gpftbndc_56QYtUg   \n",
       "8416  18579  OgqZepyL6UesV6oHtdvI1A   \n",
       "8417  18580  rMtphJbzFYA3eLx-AT62vA   \n",
       "8418  18586  _7hhpjQHxjPi0gNzzMmO6g   \n",
       "8419  18588  4xqj4joZyqq-_-44dXVcdw   \n",
       "8420  18594  TOfthw3SAWmp7E1napR65w   \n",
       "8421  18595  hZgxNlArGoN0mWZvfCQWvA   \n",
       "8422  18596  I5CKfLZ-hxriv5IzHLvNGQ   \n",
       "8423  18599  yjUgQXvycpnH9-lfBA2sgA   \n",
       "8424  18600  JQYkVnUzS5vgFxZgCuW7ag   \n",
       "8425  18601  W7fgRvyxdjr9v4YXLinZtQ   \n",
       "8426  18605  5l8VDB6hXXm-uJP2_4SRMw   \n",
       "8427  18607  QIKmpmC_Kasp1GMmyF_WEA   \n",
       "8428  18609  jIDnLUpdKQCYtvT7wT7mJg   \n",
       "8429  18610  5oeiMlQFtJFZV6H8qatznw   \n",
       "8430  18611  QYlmW2wkSziLUwQIdyZAww   \n",
       "8431  18614  T1HBJyu_wNcpvsGlMHlODg   \n",
       "8432  18615  oIDBQTsdWwsxN5WL2LLnkg   \n",
       "8433  18616  uLN_58N3QZGeUwSdBfTZ5A   \n",
       "8434  18617  403dr0KtTbRibcWEA7h0WA   \n",
       "8435  18620  7FVmE-kRcjG33M47tC3Qqg   \n",
       "8436  18621  muzZW1AqlfdWGMND0jf_kw   \n",
       "8437  18623  wu9cORtxQWyVNrr0q7pLgw   \n",
       "8438  18626  IYedXxcwJJwxv-6DpMPvtA   \n",
       "8439  18627  XS92emti6SnkE99_cvCAfQ   \n",
       "8440  18628  P4atiaghQt2lnMUtO-SLwQ   \n",
       "\n",
       "                                             categories   latitude  \\\n",
       "0                                    Coffee & Tea, Food  33.671375   \n",
       "1     Bars, Sports Bars, Dive Bars, Burgers, Nightli...  33.479807   \n",
       "2     Nightlife, Bars, American (Traditional), Sport...  33.495298   \n",
       "3                                  Mexican, Restaurants  33.479671   \n",
       "4                         Pizza, Fast Food, Restaurants  33.495422   \n",
       "5     Event Planning & Services, Soup, Salad, Mexica...  33.639774   \n",
       "6     Beauty & Spas, Makeup Artists, Hair Salons, Ey...  33.406453   \n",
       "7                            Beer, Wine & Spirits, Food  33.480792   \n",
       "8     Discount Store, Wholesale Stores, Shopping, Ou...  33.445514   \n",
       "9     American (Traditional), Comfort Food, Barbeque...  33.320252   \n",
       "10    Barbers, Beauty & Spas, Hair Stylists, Hair Sa...  33.639064   \n",
       "11    Professional Services, Internet Service Provid...  33.321201   \n",
       "12                                 Mexican, Restaurants  33.457388   \n",
       "13    Mexican, Breakfast & Brunch, Sandwiches, Event...  33.449967   \n",
       "14    Fast Food, Restaurants, Sandwiches, American (...  33.641684   \n",
       "15                                   Coffee & Tea, Food  33.610201   \n",
       "16    Eyewear & Opticians, Health & Medical, Optomet...  33.583966   \n",
       "17    Men's Hair Salons, Barbers, Beauty & Spas, Hai...  33.639502   \n",
       "18    Nightlife, Sports Bars, Bars, Restaurants, Kar...  33.495640   \n",
       "19                       Indian, Pakistani, Restaurants  33.639828   \n",
       "20      Restaurants, Breakfast & Brunch, Food, Bakeries  33.640054   \n",
       "21    Beauty & Spas, Barbers, Kids Hair Salons, Men'...  33.466140   \n",
       "22    Home & Garden, Shopping, Flowers & Gifts, Home...  33.513506   \n",
       "23    Restaurants, Food, Bakeries, Grocery, Delis, B...  33.580882   \n",
       "24    Used, Vintage & Consignment, Swimwear, Fashion...  33.459432   \n",
       "25    Shoe Repair, Laundry Services, Dry Cleaning, L...  33.869666   \n",
       "26                                 Shopping, Drugstores  33.581178   \n",
       "27                                 Restaurants, Chinese  33.612485   \n",
       "28                                    Thai, Restaurants  33.641201   \n",
       "29                                        Grocery, Food  33.627232   \n",
       "...                                                 ...        ...   \n",
       "8411  Shopping, Event Planning & Services, Paint-You...  33.666700   \n",
       "8412                Fast Food, Restaurants, Food, Salad  33.523694   \n",
       "8413                         Shopping Centers, Shopping  33.602876   \n",
       "8414  Sandwiches, Pizza, Food, Food Delivery Service...  33.596884   \n",
       "8415                                     Food, Bakeries  33.567135   \n",
       "8416                          Fashion, Shopping, Bridal  33.486686   \n",
       "8417  Restaurants, Diners, American (Traditional), N...  33.509497   \n",
       "8418                      Restaurants, Chinese, Buffets  33.393691   \n",
       "8419  Local Services, Funeral Services & Cemeteries,...  33.518912   \n",
       "8420  Reflexology, Beauty & Spas, Traditional Chines...  33.511433   \n",
       "8421  Caterers, Restaurants, Breakfast & Brunch, Eve...  33.493978   \n",
       "8422  Cooking Schools, Education, American (New), Re...  33.486484   \n",
       "8423           Fast Food, Mexican, Tex-Mex, Restaurants  33.567800   \n",
       "8424  Food, Beer, Wine & Spirits, Restaurants, Thai,...  33.495155   \n",
       "8425                              Restaurants, Hot Dogs  33.479972   \n",
       "8426  Food, Nightlife, Breakfast & Brunch, Juice Bar...  33.517799   \n",
       "8427  Fashion, Women's Clothing, Shopping, Jewelry, ...  33.495087   \n",
       "8428  American (Traditional), Burgers, Sandwiches, R...  33.384455   \n",
       "8429            Restaurants, Salvadoran, Latin American  33.566128   \n",
       "8430  Tanning, Active Life, Beauty & Spas, Trainers,...  33.480656   \n",
       "8431  Jewelry Repair, Jewelry, Local Services, Gold ...  33.509789   \n",
       "8432  Shopping, Home & Garden, Florists, Flowers & G...  33.388453   \n",
       "8433                             Fast Food, Restaurants  33.378315   \n",
       "8434                               Restaurants, Mexican  33.449900   \n",
       "8435  Sporting Goods, Home Services, Movers, Pool & ...  33.669862   \n",
       "8436             Pakistani, Indian, Afghan, Restaurants  33.466978   \n",
       "8437                                       Bagels, Food  33.583472   \n",
       "8438                   Sushi Bars, Restaurants, Mexican  33.464078   \n",
       "8439                                          Nightlife  33.465883   \n",
       "8440                 Restaurants, Fast Food, Sandwiches  33.480112   \n",
       "\n",
       "       longitude                                             name postal_code  \\\n",
       "0    -112.030017                       The Coffee Bean & Tea Leaf       85024   \n",
       "1    -112.091188                         Original Hamburger Works       85007   \n",
       "2    -112.236076                                         Rib Shop       85033   \n",
       "3    -112.225173                                         Salsitas       85033   \n",
       "4    -112.235798                             Little Caesars Pizza       85033   \n",
       "5    -112.087738  Manuel's Mexican Restaurant & Cantina - Bell Rd       85023   \n",
       "6    -112.280777                                 Makeupbygaby1974       85353   \n",
       "7    -112.150881                                    Jack's Liquor       85019   \n",
       "8    -112.032068                          Bargain Store Equipment       85034   \n",
       "9    -111.982873                                    Boston Market       85044   \n",
       "10   -112.066128                                 Cool Cuts 4 Kids       85023   \n",
       "11   -111.979469         Verizon Authorized Retailer - GoWireless       85044   \n",
       "12   -112.089730                         Barrio Cafe Gran Reserva       85007   \n",
       "13   -112.070222                            Quickies Mobile Foods       85001   \n",
       "14   -111.977000                                           Arby's       85032   \n",
       "15   -112.014932                                        Starbucks       85032   \n",
       "16   -111.974232                        Nationwide Vision Centers       85028   \n",
       "17   -112.032791                             Mr Nates Barber Shop       85032   \n",
       "18   -112.003174              Hazelwoods First Place Sports Grill       85018   \n",
       "19   -112.047224                                   Taste of India       85022   \n",
       "20   -112.067994                         Paradise Bakery and Cafe       85022   \n",
       "21   -112.082168                               Bishops Cuts/Color       85003   \n",
       "22   -112.065326                                        Vignettes       85014   \n",
       "23   -111.978891                                            Fry's       85028   \n",
       "24   -112.067664                                VOX Curvy Couture       85004   \n",
       "25   -112.151070                               Spots Dry Cleaning       85086   \n",
       "26   -112.128645                                   S & G Pharmacy       85029   \n",
       "27   -112.012193                                    Dragon Palace       85032   \n",
       "28   -112.006728                          Tom Yum Thai Restaurant       85032   \n",
       "29   -112.012115                                        Food City       85032   \n",
       "...          ...                                              ...         ...   \n",
       "8411 -112.123308               As You Wish Pottery Painting Place       85027   \n",
       "8412 -112.064375                                     Salad and Go       85014   \n",
       "8413 -112.100667                                 Paradise Village       85029   \n",
       "8414 -112.135713                                     Pizza Divino       85029   \n",
       "8415 -112.082123                                    Pasteles Mary       85021   \n",
       "8416 -112.065333                                     Pearl Bridal       85014   \n",
       "8417 -112.065290                                          Denny's       85014   \n",
       "8418 -112.073216                        New Sun Star Super Buffet       85040   \n",
       "8419 -112.065213                           Flowers by Joe Gregory       85014   \n",
       "8420 -112.068503                                The MassageMobile       85012   \n",
       "8421 -112.072842                               Plaza Cafe & Grill       85012   \n",
       "8422 -112.086666                                         Café Oso       85013   \n",
       "8423 -112.099300                                        Taco Bell       85021   \n",
       "8424 -112.082213                                       Thai E-San       85013   \n",
       "8425 -112.076662                       Johnnie's Chicago Red Hots       85013   \n",
       "8426 -112.065441                                     Farm & Craft       85014   \n",
       "8427 -111.989159                                   The Green Gurl       85018   \n",
       "8428 -112.017174                           Trails End Bar & Grill       85042   \n",
       "8429 -112.073393                           Salvadoreño Restaurant       85020   \n",
       "8430 -112.049512                                 Tangible Fitness       85014   \n",
       "8431 -112.060910       Jewels & Estate Gallery by G Darrell Olson       85014   \n",
       "8432 -112.021885                       The Plant Stand of Arizona       85042   \n",
       "8433 -112.031449                                  Jack in the Box       85042   \n",
       "8434 -112.073900                             Ketzal Mexican Grill       85073   \n",
       "8435 -112.030859                               Prestige Billiards       85027   \n",
       "8436 -111.995925                                      Hilal Grill       85008   \n",
       "8437 -111.976012                                 Einsteins Bagels       85028   \n",
       "8438 -112.013154                                     Sushi Sonora       85008   \n",
       "8439 -111.971526                                         Jugheads       85008   \n",
       "8440 -112.012566                                           Subway       85018   \n",
       "\n",
       "     dollar                              geometry regionid  \n",
       "0         1       POINT (-112.0300171 33.6713751)   112547  \n",
       "1         1       POINT (-112.0911877 33.4798071)   267926  \n",
       "2         1       POINT (-112.2360764 33.4952976)   112345  \n",
       "3         1       POINT (-112.2251729 33.4796712)   112345  \n",
       "4         1  POINT (-112.235797843 33.4954215852)   112345  \n",
       "5         2       POINT (-112.0877381 33.6397742)   111818  \n",
       "6         2        POINT (-112.2807774 33.406453)   273652  \n",
       "7         2       POINT (-112.1508807 33.4807922)   112345  \n",
       "8         2       POINT (-112.0320681 33.4455139)   267912  \n",
       "9         1       POINT (-111.9828733 33.3202518)   267900  \n",
       "10        2         POINT (-112.066128 33.639064)   111818  \n",
       "11        2  POINT (-111.979469061 33.3212006033)   267900  \n",
       "12        2       POINT (-112.0897301 33.4573881)   267912  \n",
       "13        1       POINT (-112.0702225 33.4499672)   267912  \n",
       "14        1            POINT (-111.977 33.641684)   112547  \n",
       "15        2       POINT (-112.0149317 33.6102008)   112547  \n",
       "16        2        POINT (-111.974232 33.5839659)   112547  \n",
       "17        1  POINT (-112.032791262 33.6395017082)   112547  \n",
       "18        1   POINT (-112.003173828 33.495639801)   267908  \n",
       "19        2       POINT (-112.0472243 33.6398283)   112547  \n",
       "20        2  POINT (-112.067994484 33.6400536994)   111818  \n",
       "21        2       POINT (-112.0821683 33.4661401)   267926  \n",
       "22        2       POINT (-112.0653262 33.5135055)   272734  \n",
       "23        2         POINT (-111.978891 33.580882)   112547  \n",
       "24        2   POINT (-112.067664371 33.459432061)   267912  \n",
       "25        2          POINT (-112.15107 33.869666)   274667  \n",
       "26        1       POINT (-112.1286448 33.5811777)   267955  \n",
       "27        2        POINT (-112.012193 33.6124852)   112547  \n",
       "28        2        POINT (-112.0067284 33.641201)   112547  \n",
       "29        1       POINT (-112.0121147 33.6272318)   112547  \n",
       "...     ...                                   ...      ...  \n",
       "8411      2       POINT (-112.1233078 33.6666997)   111818  \n",
       "8412      1  POINT (-112.064375058 33.5236942821)   267908  \n",
       "8413      2       POINT (-112.1006673 33.6028763)   267955  \n",
       "8414      1       POINT (-112.1357133 33.5968838)   267955  \n",
       "8415      3        POINT (-112.0821235 33.567135)   267955  \n",
       "8416      2       POINT (-112.0653328 33.4866856)   267926  \n",
       "8417      1  POINT (-112.065289682 33.5094973533)   272734  \n",
       "8418      1       POINT (-112.0732157 33.3936908)   267971  \n",
       "8419      2       POINT (-112.0652129 33.5189122)   272734  \n",
       "8420      4       POINT (-112.0685027 33.5114334)   272734  \n",
       "8421      1         POINT (-112.072842 33.493978)   267926  \n",
       "8422      2       POINT (-112.0866664 33.4864842)   267926  \n",
       "8423      1             POINT (-112.0993 33.5678)   267955  \n",
       "8424      2       POINT (-112.0822129 33.4951554)   267926  \n",
       "8425      1       POINT (-112.0766623 33.4799723)   267926  \n",
       "8426      2       POINT (-112.0654413 33.5177994)   272734  \n",
       "8427      2   POINT (-111.98915863 33.4950866699)   267908  \n",
       "8428      2  POINT (-112.017174271 33.3844547202)   267971  \n",
       "8429      1       POINT (-112.0733931 33.5661279)   267955  \n",
       "8430      2       POINT (-112.0495121 33.4806564)   267926  \n",
       "8431      2  POINT (-112.060909957 33.5097889751)   267908  \n",
       "8432      2       POINT (-112.0218848 33.3884528)   267971  \n",
       "8433      1       POINT (-112.0314494 33.3783151)   267971  \n",
       "8434      2             POINT (-112.0739 33.4499)   267912  \n",
       "8435      2        POINT (-112.030859 33.6698624)   112547  \n",
       "8436      2        POINT (-111.9959254 33.466978)   267908  \n",
       "8437      1  POINT (-111.976011895 33.5834720349)   112547  \n",
       "8438      2       POINT (-112.0131539 33.4640781)   267908  \n",
       "8439      1        POINT (-111.971526 33.4658826)   267908  \n",
       "8440      1       POINT (-112.0125656 33.4801117)   267908  \n",
       "\n",
       "[8441 rows x 10 columns]"
      ]
     },
     "execution_count": 50,
     "metadata": {},
     "output_type": "execute_result"
    }
   ],
   "source": [
    "df.merge(merged_geo,on ='business_id',how='left')"
   ]
  },
  {
   "cell_type": "code",
   "execution_count": null,
   "metadata": {},
   "outputs": [],
   "source": [
    "import plotly.plotly as py\n",
    "import pandas as pd\n",
    "\n",
    "df = pd.read_csv('https://raw.githubusercontent.com/plotly/datasets/master/2011_us_ag_exports.csv')\n",
    "\n",
    "for col in df.columns:\n",
    "    df[col] = df[col].astype(str)\n",
    "\n",
    "scl = [[0.0, 'rgb(242,240,247)'],[0.2, 'rgb(218,218,235)'],[0.4, 'rgb(188,189,220)'],\\\n",
    "            [0.6, 'rgb(158,154,200)'],[0.8, 'rgb(117,107,177)'],[1.0, 'rgb(84,39,143)']]\n",
    "\n",
    "df['text'] = df['state'] + '<br>' +\\\n",
    "    'Beef '+df['beef']+' Dairy '+df['dairy']+'<br>'+\\\n",
    "    'Fruits '+df['total fruits']+' Veggies ' + df['total veggies']+'<br>'+\\\n",
    "    'Wheat '+df['wheat']+' Corn '+df['corn']\n",
    "\n",
    "data = [ dict(\n",
    "        type='choropleth',\n",
    "        colorscale = scl,\n",
    "        autocolorscale = False,\n",
    "        locations = df['code'],\n",
    "        z = df['total exports'].astype(float),\n",
    "        locationmode = 'USA-states',\n",
    "        text = df['text'],\n",
    "        marker = dict(\n",
    "            line = dict (\n",
    "                color = 'rgb(255,255,255)',\n",
    "                width = 2\n",
    "            ) ),\n",
    "        colorbar = dict(\n",
    "            title = \"Millions USD\")\n",
    "        ) ]\n",
    "\n",
    "layout = dict(\n",
    "        title = '2011 US Agriculture Exports by State<br>(Hover for breakdown)',\n",
    "        geo = dict(\n",
    "            scope='usa',\n",
    "            projection=dict( type='albers usa' ),\n",
    "            showlakes = True,\n",
    "            lakecolor = 'rgb(255, 255, 255)'),\n",
    "             )\n",
    "    \n",
    "fig = dict( data=data, layout=layout )\n",
    "py.iplot( fig, filename='d3-cloropleth-map' )"
   ]
  }
 ],
 "metadata": {
  "kernelspec": {
   "display_name": "Python 3",
   "language": "python",
   "name": "python3"
  },
  "language_info": {
   "codemirror_mode": {
    "name": "ipython",
    "version": 3
   },
   "file_extension": ".py",
   "mimetype": "text/x-python",
   "name": "python",
   "nbconvert_exporter": "python",
   "pygments_lexer": "ipython3",
   "version": "3.6.7"
  }
 },
 "nbformat": 4,
 "nbformat_minor": 2
}
