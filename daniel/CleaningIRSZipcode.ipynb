{
 "cells": [
  {
   "cell_type": "code",
   "execution_count": 4,
   "metadata": {},
   "outputs": [],
   "source": [
    "import pandas as pd"
   ]
  },
  {
   "cell_type": "code",
   "execution_count": 5,
   "metadata": {},
   "outputs": [],
   "source": [
    "raw_data = pd.read_csv('/Volumes/data/stuff/IRS_zipcode.csv')"
   ]
  },
  {
   "cell_type": "code",
   "execution_count": 6,
   "metadata": {},
   "outputs": [
    {
     "data": {
      "text/html": [
       "<div>\n",
       "<style scoped>\n",
       "    .dataframe tbody tr th:only-of-type {\n",
       "        vertical-align: middle;\n",
       "    }\n",
       "\n",
       "    .dataframe tbody tr th {\n",
       "        vertical-align: top;\n",
       "    }\n",
       "\n",
       "    .dataframe thead th {\n",
       "        text-align: right;\n",
       "    }\n",
       "</style>\n",
       "<table border=\"1\" class=\"dataframe\">\n",
       "  <thead>\n",
       "    <tr style=\"text-align: right;\">\n",
       "      <th></th>\n",
       "      <th>STATEFIPS</th>\n",
       "      <th>STATE</th>\n",
       "      <th>zipcode</th>\n",
       "      <th>agi_stub</th>\n",
       "      <th>N1</th>\n",
       "      <th>mars1</th>\n",
       "      <th>MARS2</th>\n",
       "      <th>MARS4</th>\n",
       "      <th>PREP</th>\n",
       "      <th>N2</th>\n",
       "      <th>...</th>\n",
       "      <th>N10300</th>\n",
       "      <th>A10300</th>\n",
       "      <th>N85530</th>\n",
       "      <th>A85530</th>\n",
       "      <th>N85300</th>\n",
       "      <th>A85300</th>\n",
       "      <th>N11901</th>\n",
       "      <th>A11901</th>\n",
       "      <th>N11902</th>\n",
       "      <th>A11902</th>\n",
       "    </tr>\n",
       "  </thead>\n",
       "  <tbody>\n",
       "    <tr>\n",
       "      <th>0</th>\n",
       "      <td>1</td>\n",
       "      <td>AL</td>\n",
       "      <td>0</td>\n",
       "      <td>1</td>\n",
       "      <td>815440</td>\n",
       "      <td>477700</td>\n",
       "      <td>105350</td>\n",
       "      <td>221200</td>\n",
       "      <td>440830</td>\n",
       "      <td>1296920</td>\n",
       "      <td>...</td>\n",
       "      <td>367320</td>\n",
       "      <td>330066</td>\n",
       "      <td>0</td>\n",
       "      <td>0</td>\n",
       "      <td>0</td>\n",
       "      <td>0</td>\n",
       "      <td>63420</td>\n",
       "      <td>51444</td>\n",
       "      <td>711580</td>\n",
       "      <td>1831661</td>\n",
       "    </tr>\n",
       "    <tr>\n",
       "      <th>1</th>\n",
       "      <td>1</td>\n",
       "      <td>AL</td>\n",
       "      <td>0</td>\n",
       "      <td>2</td>\n",
       "      <td>495830</td>\n",
       "      <td>211930</td>\n",
       "      <td>142340</td>\n",
       "      <td>128890</td>\n",
       "      <td>272440</td>\n",
       "      <td>996240</td>\n",
       "      <td>...</td>\n",
       "      <td>398050</td>\n",
       "      <td>984297</td>\n",
       "      <td>0</td>\n",
       "      <td>0</td>\n",
       "      <td>0</td>\n",
       "      <td>0</td>\n",
       "      <td>74090</td>\n",
       "      <td>110889</td>\n",
       "      <td>416090</td>\n",
       "      <td>1173463</td>\n",
       "    </tr>\n",
       "    <tr>\n",
       "      <th>2</th>\n",
       "      <td>1</td>\n",
       "      <td>AL</td>\n",
       "      <td>0</td>\n",
       "      <td>3</td>\n",
       "      <td>263390</td>\n",
       "      <td>83420</td>\n",
       "      <td>137870</td>\n",
       "      <td>36340</td>\n",
       "      <td>154880</td>\n",
       "      <td>584000</td>\n",
       "      <td>...</td>\n",
       "      <td>253180</td>\n",
       "      <td>1349246</td>\n",
       "      <td>0</td>\n",
       "      <td>0</td>\n",
       "      <td>0</td>\n",
       "      <td>0</td>\n",
       "      <td>64000</td>\n",
       "      <td>143060</td>\n",
       "      <td>195130</td>\n",
       "      <td>543284</td>\n",
       "    </tr>\n",
       "    <tr>\n",
       "      <th>3</th>\n",
       "      <td>1</td>\n",
       "      <td>AL</td>\n",
       "      <td>0</td>\n",
       "      <td>4</td>\n",
       "      <td>167190</td>\n",
       "      <td>29420</td>\n",
       "      <td>124060</td>\n",
       "      <td>10610</td>\n",
       "      <td>99700</td>\n",
       "      <td>421720</td>\n",
       "      <td>...</td>\n",
       "      <td>165830</td>\n",
       "      <td>1425430</td>\n",
       "      <td>0</td>\n",
       "      <td>0</td>\n",
       "      <td>0</td>\n",
       "      <td>0</td>\n",
       "      <td>45020</td>\n",
       "      <td>128920</td>\n",
       "      <td>117410</td>\n",
       "      <td>381329</td>\n",
       "    </tr>\n",
       "    <tr>\n",
       "      <th>4</th>\n",
       "      <td>1</td>\n",
       "      <td>AL</td>\n",
       "      <td>0</td>\n",
       "      <td>5</td>\n",
       "      <td>217440</td>\n",
       "      <td>20240</td>\n",
       "      <td>188080</td>\n",
       "      <td>4880</td>\n",
       "      <td>129410</td>\n",
       "      <td>601040</td>\n",
       "      <td>...</td>\n",
       "      <td>216720</td>\n",
       "      <td>3922449</td>\n",
       "      <td>390</td>\n",
       "      <td>155</td>\n",
       "      <td>60</td>\n",
       "      <td>19</td>\n",
       "      <td>82940</td>\n",
       "      <td>423629</td>\n",
       "      <td>126130</td>\n",
       "      <td>506526</td>\n",
       "    </tr>\n",
       "  </tbody>\n",
       "</table>\n",
       "<p>5 rows × 147 columns</p>\n",
       "</div>"
      ],
      "text/plain": [
       "   STATEFIPS STATE  zipcode  agi_stub      N1   mars1   MARS2   MARS4    PREP  \\\n",
       "0          1    AL        0         1  815440  477700  105350  221200  440830   \n",
       "1          1    AL        0         2  495830  211930  142340  128890  272440   \n",
       "2          1    AL        0         3  263390   83420  137870   36340  154880   \n",
       "3          1    AL        0         4  167190   29420  124060   10610   99700   \n",
       "4          1    AL        0         5  217440   20240  188080    4880  129410   \n",
       "\n",
       "        N2   ...     N10300   A10300  N85530  A85530  N85300  A85300  N11901  \\\n",
       "0  1296920   ...     367320   330066       0       0       0       0   63420   \n",
       "1   996240   ...     398050   984297       0       0       0       0   74090   \n",
       "2   584000   ...     253180  1349246       0       0       0       0   64000   \n",
       "3   421720   ...     165830  1425430       0       0       0       0   45020   \n",
       "4   601040   ...     216720  3922449     390     155      60      19   82940   \n",
       "\n",
       "   A11901  N11902   A11902  \n",
       "0   51444  711580  1831661  \n",
       "1  110889  416090  1173463  \n",
       "2  143060  195130   543284  \n",
       "3  128920  117410   381329  \n",
       "4  423629  126130   506526  \n",
       "\n",
       "[5 rows x 147 columns]"
      ]
     },
     "execution_count": 6,
     "metadata": {},
     "output_type": "execute_result"
    }
   ],
   "source": [
    "raw_data.head()"
   ]
  },
  {
   "cell_type": "markdown",
   "metadata": {},
   "source": [
    "Remove any values with 0 or 99999"
   ]
  },
  {
   "cell_type": "code",
   "execution_count": 3,
   "metadata": {},
   "outputs": [],
   "source": [
    "no_zeroes = raw_data.loc[\n",
    "            (raw_data['zipcode'] != 0) & (raw_data['zipcode'] != 99999)]"
   ]
  },
  {
   "cell_type": "markdown",
   "metadata": {},
   "source": [
    "Remove any zip codes with less than 4 digits"
   ]
  },
  {
   "cell_type": "code",
   "execution_count": 4,
   "metadata": {
    "scrolled": true
   },
   "outputs": [],
   "source": [
    "all_five = no_zeroes.loc[no_zeroes['zipcode'].apply(lambda x: len(str(x)) == 5)]"
   ]
  },
  {
   "cell_type": "markdown",
   "metadata": {},
   "source": [
    "Pivot the data to remove redundant columns"
   ]
  },
  {
   "cell_type": "code",
   "execution_count": 5,
   "metadata": {},
   "outputs": [],
   "source": [
    "pivoted = pd.pivot_table(data=all_five,aggfunc='sum',values='N1',columns='agi_stub',index=['zipcode']).unstack('agi_stub')"
   ]
  },
  {
   "cell_type": "code",
   "execution_count": 6,
   "metadata": {},
   "outputs": [],
   "source": [
    "pivoted = pivoted.unstack().T.reset_index().rename_axis(None,axis=1)"
   ]
  },
  {
   "cell_type": "code",
   "execution_count": 7,
   "metadata": {},
   "outputs": [
    {
     "data": {
      "text/html": [
       "<div>\n",
       "<style scoped>\n",
       "    .dataframe tbody tr th:only-of-type {\n",
       "        vertical-align: middle;\n",
       "    }\n",
       "\n",
       "    .dataframe tbody tr th {\n",
       "        vertical-align: top;\n",
       "    }\n",
       "\n",
       "    .dataframe thead th {\n",
       "        text-align: right;\n",
       "    }\n",
       "</style>\n",
       "<table border=\"1\" class=\"dataframe\">\n",
       "  <thead>\n",
       "    <tr style=\"text-align: right;\">\n",
       "      <th></th>\n",
       "      <th>zipcode</th>\n",
       "      <th>1</th>\n",
       "      <th>2</th>\n",
       "      <th>3</th>\n",
       "      <th>4</th>\n",
       "      <th>5</th>\n",
       "      <th>6</th>\n",
       "    </tr>\n",
       "  </thead>\n",
       "  <tbody>\n",
       "    <tr>\n",
       "      <th>0</th>\n",
       "      <td>10001</td>\n",
       "      <td>3740.0</td>\n",
       "      <td>2500.0</td>\n",
       "      <td>1950.0</td>\n",
       "      <td>1410.0</td>\n",
       "      <td>2580.0</td>\n",
       "      <td>2340.0</td>\n",
       "    </tr>\n",
       "    <tr>\n",
       "      <th>1</th>\n",
       "      <td>10002</td>\n",
       "      <td>21180.0</td>\n",
       "      <td>8210.0</td>\n",
       "      <td>4810.0</td>\n",
       "      <td>2710.0</td>\n",
       "      <td>3620.0</td>\n",
       "      <td>1650.0</td>\n",
       "    </tr>\n",
       "    <tr>\n",
       "      <th>2</th>\n",
       "      <td>10003</td>\n",
       "      <td>5030.0</td>\n",
       "      <td>3870.0</td>\n",
       "      <td>3960.0</td>\n",
       "      <td>3220.0</td>\n",
       "      <td>6300.0</td>\n",
       "      <td>6280.0</td>\n",
       "    </tr>\n",
       "    <tr>\n",
       "      <th>3</th>\n",
       "      <td>10004</td>\n",
       "      <td>360.0</td>\n",
       "      <td>250.0</td>\n",
       "      <td>290.0</td>\n",
       "      <td>210.0</td>\n",
       "      <td>520.0</td>\n",
       "      <td>850.0</td>\n",
       "    </tr>\n",
       "    <tr>\n",
       "      <th>4</th>\n",
       "      <td>10005</td>\n",
       "      <td>690.0</td>\n",
       "      <td>750.0</td>\n",
       "      <td>860.0</td>\n",
       "      <td>660.0</td>\n",
       "      <td>1360.0</td>\n",
       "      <td>1620.0</td>\n",
       "    </tr>\n",
       "  </tbody>\n",
       "</table>\n",
       "</div>"
      ],
      "text/plain": [
       "   zipcode        1       2       3       4       5       6\n",
       "0    10001   3740.0  2500.0  1950.0  1410.0  2580.0  2340.0\n",
       "1    10002  21180.0  8210.0  4810.0  2710.0  3620.0  1650.0\n",
       "2    10003   5030.0  3870.0  3960.0  3220.0  6300.0  6280.0\n",
       "3    10004    360.0   250.0   290.0   210.0   520.0   850.0\n",
       "4    10005    690.0   750.0   860.0   660.0  1360.0  1620.0"
      ]
     },
     "execution_count": 7,
     "metadata": {},
     "output_type": "execute_result"
    }
   ],
   "source": [
    "pivoted.head()"
   ]
  },
  {
   "cell_type": "markdown",
   "metadata": {},
   "source": [
    "Add the State"
   ]
  },
  {
   "cell_type": "code",
   "execution_count": 8,
   "metadata": {},
   "outputs": [],
   "source": [
    "states = no_zeroes[['STATE','zipcode']]"
   ]
  },
  {
   "cell_type": "code",
   "execution_count": 9,
   "metadata": {},
   "outputs": [
    {
     "name": "stderr",
     "output_type": "stream",
     "text": [
      "/Users/debrastern/anaconda3/lib/python3.6/site-packages/ipykernel_launcher.py:1: SettingWithCopyWarning: \n",
      "A value is trying to be set on a copy of a slice from a DataFrame\n",
      "\n",
      "See the caveats in the documentation: http://pandas.pydata.org/pandas-docs/stable/indexing.html#indexing-view-versus-copy\n",
      "  \"\"\"Entry point for launching an IPython kernel.\n"
     ]
    }
   ],
   "source": [
    "states.drop_duplicates(['STATE','zipcode'],inplace=True)"
   ]
  },
  {
   "cell_type": "code",
   "execution_count": 10,
   "metadata": {},
   "outputs": [
    {
     "data": {
      "text/html": [
       "<div>\n",
       "<style scoped>\n",
       "    .dataframe tbody tr th:only-of-type {\n",
       "        vertical-align: middle;\n",
       "    }\n",
       "\n",
       "    .dataframe tbody tr th {\n",
       "        vertical-align: top;\n",
       "    }\n",
       "\n",
       "    .dataframe thead th {\n",
       "        text-align: right;\n",
       "    }\n",
       "</style>\n",
       "<table border=\"1\" class=\"dataframe\">\n",
       "  <thead>\n",
       "    <tr style=\"text-align: right;\">\n",
       "      <th></th>\n",
       "      <th>STATE</th>\n",
       "      <th>zipcode</th>\n",
       "    </tr>\n",
       "  </thead>\n",
       "  <tbody>\n",
       "    <tr>\n",
       "      <th>6</th>\n",
       "      <td>AL</td>\n",
       "      <td>35004</td>\n",
       "    </tr>\n",
       "    <tr>\n",
       "      <th>12</th>\n",
       "      <td>AL</td>\n",
       "      <td>35005</td>\n",
       "    </tr>\n",
       "    <tr>\n",
       "      <th>18</th>\n",
       "      <td>AL</td>\n",
       "      <td>35006</td>\n",
       "    </tr>\n",
       "    <tr>\n",
       "      <th>24</th>\n",
       "      <td>AL</td>\n",
       "      <td>35007</td>\n",
       "    </tr>\n",
       "    <tr>\n",
       "      <th>30</th>\n",
       "      <td>AL</td>\n",
       "      <td>35010</td>\n",
       "    </tr>\n",
       "  </tbody>\n",
       "</table>\n",
       "</div>"
      ],
      "text/plain": [
       "   STATE  zipcode\n",
       "6     AL    35004\n",
       "12    AL    35005\n",
       "18    AL    35006\n",
       "24    AL    35007\n",
       "30    AL    35010"
      ]
     },
     "execution_count": 10,
     "metadata": {},
     "output_type": "execute_result"
    }
   ],
   "source": [
    "states.head()"
   ]
  },
  {
   "cell_type": "code",
   "execution_count": 11,
   "metadata": {},
   "outputs": [],
   "source": [
    "pivoted = pd.merge(states,pivoted,on='zipcode')"
   ]
  },
  {
   "cell_type": "code",
   "execution_count": 12,
   "metadata": {},
   "outputs": [
    {
     "data": {
      "text/html": [
       "<div>\n",
       "<style scoped>\n",
       "    .dataframe tbody tr th:only-of-type {\n",
       "        vertical-align: middle;\n",
       "    }\n",
       "\n",
       "    .dataframe tbody tr th {\n",
       "        vertical-align: top;\n",
       "    }\n",
       "\n",
       "    .dataframe thead th {\n",
       "        text-align: right;\n",
       "    }\n",
       "</style>\n",
       "<table border=\"1\" class=\"dataframe\">\n",
       "  <thead>\n",
       "    <tr style=\"text-align: right;\">\n",
       "      <th></th>\n",
       "      <th>STATE</th>\n",
       "      <th>zipcode</th>\n",
       "      <th>1</th>\n",
       "      <th>2</th>\n",
       "      <th>3</th>\n",
       "      <th>4</th>\n",
       "      <th>5</th>\n",
       "      <th>6</th>\n",
       "    </tr>\n",
       "  </thead>\n",
       "  <tbody>\n",
       "    <tr>\n",
       "      <th>0</th>\n",
       "      <td>AL</td>\n",
       "      <td>35004</td>\n",
       "      <td>1510.0</td>\n",
       "      <td>1410.0</td>\n",
       "      <td>950.0</td>\n",
       "      <td>650.0</td>\n",
       "      <td>630.0</td>\n",
       "      <td>60.0</td>\n",
       "    </tr>\n",
       "    <tr>\n",
       "      <th>1</th>\n",
       "      <td>AL</td>\n",
       "      <td>35005</td>\n",
       "      <td>1310.0</td>\n",
       "      <td>960.0</td>\n",
       "      <td>450.0</td>\n",
       "      <td>200.0</td>\n",
       "      <td>180.0</td>\n",
       "      <td>0.0</td>\n",
       "    </tr>\n",
       "    <tr>\n",
       "      <th>2</th>\n",
       "      <td>AL</td>\n",
       "      <td>35006</td>\n",
       "      <td>430.0</td>\n",
       "      <td>330.0</td>\n",
       "      <td>190.0</td>\n",
       "      <td>120.0</td>\n",
       "      <td>130.0</td>\n",
       "      <td>0.0</td>\n",
       "    </tr>\n",
       "    <tr>\n",
       "      <th>3</th>\n",
       "      <td>AL</td>\n",
       "      <td>35007</td>\n",
       "      <td>4070.0</td>\n",
       "      <td>2650.0</td>\n",
       "      <td>1820.0</td>\n",
       "      <td>1340.0</td>\n",
       "      <td>1820.0</td>\n",
       "      <td>240.0</td>\n",
       "    </tr>\n",
       "    <tr>\n",
       "      <th>4</th>\n",
       "      <td>AL</td>\n",
       "      <td>35010</td>\n",
       "      <td>3620.0</td>\n",
       "      <td>2070.0</td>\n",
       "      <td>890.0</td>\n",
       "      <td>530.0</td>\n",
       "      <td>620.0</td>\n",
       "      <td>180.0</td>\n",
       "    </tr>\n",
       "  </tbody>\n",
       "</table>\n",
       "</div>"
      ],
      "text/plain": [
       "  STATE  zipcode       1       2       3       4       5      6\n",
       "0    AL    35004  1510.0  1410.0   950.0   650.0   630.0   60.0\n",
       "1    AL    35005  1310.0   960.0   450.0   200.0   180.0    0.0\n",
       "2    AL    35006   430.0   330.0   190.0   120.0   130.0    0.0\n",
       "3    AL    35007  4070.0  2650.0  1820.0  1340.0  1820.0  240.0\n",
       "4    AL    35010  3620.0  2070.0   890.0   530.0   620.0  180.0"
      ]
     },
     "execution_count": 12,
     "metadata": {},
     "output_type": "execute_result"
    }
   ],
   "source": [
    "pivoted.head()"
   ]
  },
  {
   "cell_type": "code",
   "execution_count": 13,
   "metadata": {},
   "outputs": [],
   "source": [
    "pivoted.to_csv('/Volumes/data/stuff/IRS_zipcodes_clean.csv',index=False)"
   ]
  }
 ],
 "metadata": {
  "kernelspec": {
   "display_name": "Python 3",
   "language": "python",
   "name": "python3"
  },
  "language_info": {
   "codemirror_mode": {
    "name": "ipython",
    "version": 3
   },
   "file_extension": ".py",
   "mimetype": "text/x-python",
   "name": "python",
   "nbconvert_exporter": "python",
   "pygments_lexer": "ipython3",
   "version": "3.6.7"
  }
 },
 "nbformat": 4,
 "nbformat_minor": 2
}
