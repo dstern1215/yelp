{
 "cells": [
  {
   "cell_type": "code",
   "execution_count": null,
   "metadata": {},
   "outputs": [],
   "source": [
    "import pandas as pd\n",
    "import geopandas as gpd\n",
    "from shapely.geometry import Point, Polygon\n",
    "import json"
   ]
  },
  {
   "cell_type": "code",
   "execution_count": null,
   "metadata": {},
   "outputs": [],
   "source": [
    "zillow_boundaries = gpd.read_file('')"
   ]
  },
  {
   "cell_type": "code",
   "execution_count": null,
   "metadata": {},
   "outputs": [],
   "source": [
    "zillow_boundaries = gpd.read_file('/Volumes/data/zillow-neighborhoods_real.geojson')"
   ]
  },
  {
   "cell_type": "code",
   "execution_count": null,
   "metadata": {},
   "outputs": [],
   "source": [
    "json_lines = [json.loads( l.strip() ) for l in open('/Volumes/data/yelp_dataset/yelp_academic_dataset_business.json').readlines() ]"
   ]
  },
  {
   "cell_type": "code",
   "execution_count": null,
   "metadata": {},
   "outputs": [],
   "source": [
    "dataset_yelpopen = pd.DataFrame(json_lines)\n",
    "neighb = pd.read_csv('/Volumes/data/Neighborhood_PriceToRentRatio_AllHomes.csv')"
   ]
  },
  {
   "cell_type": "code",
   "execution_count": null,
   "metadata": {},
   "outputs": [],
   "source": [
    "tidy_neigh = neighb[['RegionID','City','Metro']]\n",
    "tidy_neigh.columns = ['regionid','city','metro']\n",
    "tidy_neigh['regionid'] = tidy_neigh['regionid'].astype(str)\n",
    "zillow_boundaries_metro = zillow_boundaries.merge(tidy_neigh,on=['regionid','city'])\n",
    "zillow_boundaries_metro.dropna(inplace=True)"
   ]
  },
  {
   "cell_type": "code",
   "execution_count": null,
   "metadata": {},
   "outputs": [],
   "source": [
    "dataset_yelpopen['att_string'] = dataset_yelpopen['attributes'].astype(str)\n",
    "yelp_with_dollars = dataset_yelpopen[dataset_yelpopen['att_string'].str.contains(\"RestaurantsPriceRange2\")]\n",
    "\n",
    "dollar_signs = []\n",
    "\n",
    "for each in yelp_with_dollars['attributes']:\n",
    "    dol = each['RestaurantsPriceRange2']\n",
    "    dollar_signs.append(dol)\n",
    "\n",
    "yelp_with_dollars['dollar_sign'] = dollar_signs"
   ]
  },
  {
   "cell_type": "code",
   "execution_count": null,
   "metadata": {},
   "outputs": [],
   "source": [
    "dollar_signs = []\n",
    "\n",
    "for each in yelp_with_dollars['attributes']:\n",
    "    dol = each['RestaurantsPriceRange2']\n",
    "    dollar_signs.append(dol)\n",
    "\n",
    "yelp_with_dollars['dollar_sign'] = dollar_signs\n",
    "\n",
    "yelp_with_dollars['latitude'] = yelp_with_dollars['latitude'].astype(float)\n",
    "yelp_with_dollars['longitude'] = yelp_with_dollars['longitude'].astype(float)\n",
    "\n",
    "yelp_with_dollars['geometry'] = list(zip(yelp_with_dollars.longitude, yelp_with_dollars.latitude))\n",
    "yelp_with_dollars['geometry'] = yelp_with_dollars['geometry'].apply(lambda x: Point(x))"
   ]
  },
  {
   "cell_type": "code",
   "execution_count": null,
   "metadata": {},
   "outputs": [],
   "source": [
    "zillow_boundaries_metro.head()"
   ]
  },
  {
   "cell_type": "code",
   "execution_count": null,
   "metadata": {},
   "outputs": [],
   "source": [
    "zillow_tidy = zillow_boundaries_metro[['regionid','county','metro','geometry']]"
   ]
  },
  {
   "cell_type": "code",
   "execution_count": null,
   "metadata": {},
   "outputs": [],
   "source": [
    "yelp_tidy = yelp_with_dollars[['business_id','geometry']]"
   ]
  },
  {
   "cell_type": "code",
   "execution_count": null,
   "metadata": {},
   "outputs": [],
   "source": [
    "yelp_geo = gpd.GeoDataFrame(yelp_tidy)\n",
    "zillow_geo = gpd.GeoDataFrame(zillow_tidy)"
   ]
  },
  {
   "cell_type": "code",
   "execution_count": null,
   "metadata": {},
   "outputs": [],
   "source": [
    "merged_geos = gpd.sjoin(yelp_geo, zillow_geo, op='within',how='left').fillna('none_in_set')"
   ]
  },
  {
   "cell_type": "code",
   "execution_count": null,
   "metadata": {},
   "outputs": [],
   "source": [
    "merged_geos = merged_geos[['business_id','regionid','county','metro']]"
   ]
  },
  {
   "cell_type": "code",
   "execution_count": null,
   "metadata": {},
   "outputs": [],
   "source": [
    "merged_geos.head(2)"
   ]
  },
  {
   "cell_type": "code",
   "execution_count": null,
   "metadata": {},
   "outputs": [],
   "source": [
    "yelp_with_neighborhoods = yelp_with_dollars.merge(merged_geos,on='business_id')"
   ]
  },
  {
   "cell_type": "code",
   "execution_count": null,
   "metadata": {},
   "outputs": [],
   "source": [
    "yelp_with_neighborhoods.head()"
   ]
  },
  {
   "cell_type": "code",
   "execution_count": null,
   "metadata": {},
   "outputs": [],
   "source": [
    "yelp_with_neighborhoods.merge(,on='regionid',)"
   ]
  },
  {
   "cell_type": "code",
   "execution_count": null,
   "metadata": {},
   "outputs": [],
   "source": [
    "zillow_names = zillow_boundaries[['name','regionid']]"
   ]
  },
  {
   "cell_type": "code",
   "execution_count": null,
   "metadata": {},
   "outputs": [],
   "source": [
    "zillow_names.columns = ['zillow_neighborhood','regionid']"
   ]
  },
  {
   "cell_type": "code",
   "execution_count": null,
   "metadata": {},
   "outputs": [],
   "source": [
    "yelp_with_neighborhoods = yelp_with_neighborhoods.merge(zillow_names,on='regionid',how='left')"
   ]
  },
  {
   "cell_type": "code",
   "execution_count": null,
   "metadata": {},
   "outputs": [],
   "source": [
    "yelp_with_neighborhoods.zillow_neighborhood.fillna('none_in_set',inplace=True)"
   ]
  },
  {
   "cell_type": "code",
   "execution_count": null,
   "metadata": {},
   "outputs": [],
   "source": [
    "attributes = yelp_with_neighborhoods[['attributes']]"
   ]
  },
  {
   "cell_type": "code",
   "execution_count": null,
   "metadata": {},
   "outputs": [],
   "source": [
    "attributes['attributes'] = attributes['attributes'].astype(str)\n",
    "attributes['ambiance'] = attributes.attributes.str.contains('Ambience')"
   ]
  },
  {
   "cell_type": "code",
   "execution_count": null,
   "metadata": {},
   "outputs": [],
   "source": [
    "attributes['ambiance'] = attributes.attributes.str.contains('Ambience')"
   ]
  },
  {
   "cell_type": "code",
   "execution_count": null,
   "metadata": {},
   "outputs": [],
   "source": [
    "attributes['split'] = attributes.attributes.apply(lambda x: x.split('Ambiance'))"
   ]
  },
  {
   "cell_type": "code",
   "execution_count": null,
   "metadata": {},
   "outputs": [],
   "source": [
    "attributes['attributes'][9]['Ambience']"
   ]
  },
  {
   "cell_type": "code",
   "execution_count": null,
   "metadata": {},
   "outputs": [],
   "source": [
    "import ast"
   ]
  },
  {
   "cell_type": "code",
   "execution_count": null,
   "metadata": {},
   "outputs": [],
   "source": [
    "for each in ast.literal_eval(attributes['attributes'][9]['Ambience']).items():\n",
    "    if each[1] == True:\n",
    "        print(each[0])"
   ]
  },
  {
   "cell_type": "code",
   "execution_count": null,
   "metadata": {},
   "outputs": [],
   "source": [
    "yelp_with_neighborhoods['attributes'][2].keys()"
   ]
  },
  {
   "cell_type": "markdown",
   "metadata": {},
   "source": [
    "### Write a function to get the ambience shit, by iterating through dictionary items and getting the ones that are true.\n",
    "\n",
    "### Make a function, and then do a lambda function of that function to make a new column"
   ]
  },
  {
   "cell_type": "code",
   "execution_count": null,
   "metadata": {},
   "outputs": [],
   "source": [
    "ast.literal_eval(yelp_with_dollars['attributes'][2]['Ambience']).items()"
   ]
  },
  {
   "cell_type": "code",
   "execution_count": null,
   "metadata": {},
   "outputs": [],
   "source": [
    "def ambiencer(row):\n",
    "    if 'Ambience' not in row.keys():\n",
    "        pass\n",
    "    else:\n",
    "        items = ast.literal_eval(row['Ambience']).items()\n",
    "        ambiences = []\n",
    "        for item in items:\n",
    "            if item[1] == True:\n",
    "                ambiences.append(item[0])\n",
    "        return ambiences"
   ]
  },
  {
   "cell_type": "code",
   "execution_count": null,
   "metadata": {},
   "outputs": [],
   "source": [
    "yelp_with_dollars['attibutes_2'] = yelp_with_dollars['attributes'].apply(lambda x: ambiencer(x))"
   ]
  },
  {
   "cell_type": "code",
   "execution_count": null,
   "metadata": {},
   "outputs": [],
   "source": [
    "yelp_with_dollars.loc[yelp_with_dollars['neighborhood'] == 'Lincoln Square']"
   ]
  },
  {
   "cell_type": "code",
   "execution_count": null,
   "metadata": {},
   "outputs": [],
   "source": [
    "yelp_with_dollars['attibutes_2'] = yelp_with_dollars['attributes'].apply(lambda x: ambiencer(x))"
   ]
  },
  {
   "cell_type": "code",
   "execution_count": null,
   "metadata": {},
   "outputs": [],
   "source": [
    "yelp_with_neighborhoods"
   ]
  },
  {
   "cell_type": "code",
   "execution_count": null,
   "metadata": {},
   "outputs": [],
   "source": [
    "atts = yelp_with_neighborhoods['attributes'][2876]"
   ]
  },
  {
   "cell_type": "code",
   "execution_count": null,
   "metadata": {},
   "outputs": [],
   "source": [
    "items = []\n",
    "for each in ast.literal_eval(atts['Ambience']).items():\n",
    "    "
   ]
  },
  {
   "cell_type": "code",
   "execution_count": null,
   "metadata": {},
   "outputs": [],
   "source": [
    "yelp_with_neighborhoods['state'].unique()"
   ]
  },
  {
   "cell_type": "code",
   "execution_count": null,
   "metadata": {},
   "outputs": [],
   "source": [
    "yelp_with_neighborhoods.to_csv('yelp_with_zillow_neighborhoods.csv')"
   ]
  },
  {
   "cell_type": "code",
   "execution_count": null,
   "metadata": {},
   "outputs": [],
   "source": [
    "yelp_with_dollars.loc[len(yelp_with_dollars['postal_code'] == 5)]"
   ]
  },
  {
   "cell_type": "code",
   "execution_count": null,
   "metadata": {},
   "outputs": [],
   "source": [
    "yelp_with_neighborhoods"
   ]
  },
  {
   "cell_type": "markdown",
   "metadata": {},
   "source": [
    "### How to separate data\n",
    "\n",
    "- "
   ]
  },
  {
   "cell_type": "code",
   "execution_count": null,
   "metadata": {},
   "outputs": [],
   "source": [
    "yelp_with_neighborhoods['ambience'] = yelp_with_neighborhoods['attributes'].apply(lambda x: ambiencer(x))"
   ]
  },
  {
   "cell_type": "code",
   "execution_count": null,
   "metadata": {},
   "outputs": [],
   "source": [
    "yelp_with_neighborhoods['ambience'].fillna('no_attributes',inplace=True)"
   ]
  },
  {
   "cell_type": "code",
   "execution_count": null,
   "metadata": {},
   "outputs": [],
   "source": [
    "yelp_with_neighborhoods[['name','business_id','dollar_sign','metro','city','state','postal_code','neighborhood','zillow_neighborhood','categories','is_open','review_count','stars','ambience','regionid']].to_csv('yelp_dataset.csv')"
   ]
  },
  {
   "cell_type": "code",
   "execution_count": null,
   "metadata": {},
   "outputs": [],
   "source": [
    "yelp_with_neighborhoods[['business_id','regionid','geometry','state','city','metro']].to_csv('yelp_geometry.csv')"
   ]
  },
  {
   "cell_type": "code",
   "execution_count": null,
   "metadata": {},
   "outputs": [],
   "source": [
    "yelp_with_neighborhoods.columns"
   ]
  },
  {
   "cell_type": "code",
   "execution_count": null,
   "metadata": {},
   "outputs": [],
   "source": [
    "yelp_with_neighborhoods[['business_id','zillow_neighborhood','metro']].loc[75]"
   ]
  },
  {
   "cell_type": "code",
   "execution_count": null,
   "metadata": {},
   "outputs": [],
   "source": [
    "pd.read_csv('yelp_dataset.csv')"
   ]
  },
  {
   "cell_type": "code",
   "execution_count": null,
   "metadata": {},
   "outputs": [],
   "source": []
  },
  {
   "cell_type": "code",
   "execution_count": null,
   "metadata": {},
   "outputs": [],
   "source": [
    "pd.read_csv('https://github.com/jlian014/yelp/blob/master/zillow_neighborhood.csv')"
   ]
  },
  {
   "cell_type": "code",
   "execution_count": null,
   "metadata": {},
   "outputs": [],
   "source": [
    "y"
   ]
  }
 ],
 "metadata": {
  "kernelspec": {
   "display_name": "Python 3",
   "language": "python",
   "name": "python3"
  },
  "language_info": {
   "codemirror_mode": {
    "name": "ipython",
    "version": 3
   },
   "file_extension": ".py",
   "mimetype": "text/x-python",
   "name": "python",
   "nbconvert_exporter": "python",
   "pygments_lexer": "ipython3",
   "version": "3.6.7"
  }
 },
 "nbformat": 4,
 "nbformat_minor": 2
}
