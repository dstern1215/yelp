{
 "cells": [
  {
   "cell_type": "markdown",
   "metadata": {},
   "source": [
    "# Manual API scrapping (Result)"
   ]
  },
  {
   "cell_type": "code",
   "execution_count": 1,
   "metadata": {},
   "outputs": [],
   "source": [
    "import requests\n",
    "import json\n",
    "import pandas as pd\n",
    "import time\n",
    "import re\n",
    "import numpy as np\n",
    "import pickle\n",
    "import time"
   ]
  },
  {
   "cell_type": "code",
   "execution_count": 2,
   "metadata": {},
   "outputs": [],
   "source": [
    "with open(\"./datas/business_id.txt\", \"rb\") as fp:\n",
    "    business_ids = pickle.load(fp)"
   ]
  },
  {
   "cell_type": "code",
   "execution_count": 3,
   "metadata": {},
   "outputs": [],
   "source": [
    "def get_businesses(business_id, api_key):\n",
    "    headers = {'Authorization': 'Bearer %s' % api_key}\n",
    "    for i in business_id:\n",
    "        url = 'https://api.yelp.com/v3/businesses/'+i\n",
    "        res = requests.get(url, headers=headers)\n",
    "        data = json.loads(res.content)\n",
    "    return data\n"
   ]
  },
  {
   "cell_type": "code",
   "execution_count": 5,
   "metadata": {},
   "outputs": [],
   "source": [
    "# test = get_businesses(business_ids , 'uYWozPGSbQptdv1Yr1vfSkPQzvtuKvo3llbZo60zVEJ2SQpCzQnlgVVMZ89lyjf0PGuwUbRj5fg9-56Hs-4CtCSvwKFSy_9Vj-6di5TOJQpfev3G7Pt5QmQGm7ouXHYx')"
   ]
  },
  {
   "cell_type": "markdown",
   "metadata": {},
   "source": [
    "I comment out the above code because the csv file was too big to run. This will crash your kernal if you don't minized the search. Maybe something more narrow. This will grab the `dollar` sign. This is a back-up code I made if you all need an extra data from the web API."
   ]
  },
  {
   "cell_type": "code",
   "execution_count": null,
   "metadata": {},
   "outputs": [],
   "source": []
  },
  {
   "cell_type": "code",
   "execution_count": 103,
   "metadata": {},
   "outputs": [
    {
     "data": {
      "text/plain": [
       "'$'"
      ]
     },
     "execution_count": 103,
     "metadata": {},
     "output_type": "execute_result"
    }
   ],
   "source": [
    "test"
   ]
  },
  {
   "cell_type": "code",
   "execution_count": null,
   "metadata": {},
   "outputs": [],
   "source": []
  }
 ],
 "metadata": {
  "kernelspec": {
   "display_name": "Python 3",
   "language": "python",
   "name": "python3"
  },
  "language_info": {
   "codemirror_mode": {
    "name": "ipython",
    "version": 3
   },
   "file_extension": ".py",
   "mimetype": "text/x-python",
   "name": "python",
   "nbconvert_exporter": "python",
   "pygments_lexer": "ipython3",
   "version": "3.6.6"
  }
 },
 "nbformat": 4,
 "nbformat_minor": 2
}
