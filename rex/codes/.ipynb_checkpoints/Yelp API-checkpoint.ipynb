{
 "cells": [
  {
   "cell_type": "markdown",
   "metadata": {},
   "source": [
    "# Yelp API (1000) "
   ]
  },
  {
   "cell_type": "markdown",
   "metadata": {},
   "source": [
    "Goal:\n",
    "- This is a yelp API method that can grab 1000 businesses based on the search. The search parameters can be found **[here](https://www.yelp.com/developers/documentation/v3/business_search)**, for this instance I used Arizona to demonstrate how will the result going to looked like and also, what to expect when it comes to Errors and limits of the API."
   ]
  },
  {
   "cell_type": "code",
   "execution_count": 2,
   "metadata": {},
   "outputs": [],
   "source": [
    "import requests\n",
    "import numpy as np\n",
    "import pandas as pd\n",
    "import json\n",
    "import time\n",
    "from yelpapi import YelpAPI\n",
    "import pickle"
   ]
  },
  {
   "cell_type": "code",
   "execution_count": 3,
   "metadata": {},
   "outputs": [],
   "source": [
    "from yelpapi import YelpAPI\n",
    "yelp_api = YelpAPI('uYWozPGSbQptdv1Yr1vfSkPQzvtuKvo3llbZo60zVEJ2SQpCzQnlgVVMZ89lyjf0PGuwUbRj5fg9-56Hs-4CtCSvwKFSy_9Vj-6di5TOJQpfev3G7Pt5QmQGm7ouXHYx',\n",
    "                   timeout_s=3.0)"
   ]
  },
  {
   "cell_type": "code",
   "execution_count": 4,
   "metadata": {},
   "outputs": [],
   "source": [
    "results = []"
   ]
  },
  {
   "cell_type": "code",
   "execution_count": 5,
   "metadata": {},
   "outputs": [],
   "source": [
    "def yelp_s(location):\n",
    "    response = []\n",
    "    start_time = time.time()\n",
    "    location = location\n",
    "    for i in range(20):\n",
    "        offsets = i*50\n",
    "        print('Getting Yelp Bsinesses Page ' +str(offsets)+' from ' +location+'.')\n",
    "        iteration = yelp_api.search_query(location=location,\n",
    "                                     price=[1,2,3,4],\n",
    "                                     offset=offsets,\n",
    "                                     limit=50)\n",
    "        \n",
    "        response.extend(iteration['businesses'])\n",
    "    print(f'Total Time Spent: {round((time.time()-start_time))} seconds')\n",
    "    return response"
   ]
  },
  {
   "cell_type": "code",
   "execution_count": 8,
   "metadata": {},
   "outputs": [
    {
     "name": "stdout",
     "output_type": "stream",
     "text": [
      "Getting Yelp Bsinesses Page 0 from Arizona.\n",
      "Getting Yelp Bsinesses Page 50 from Arizona.\n",
      "Getting Yelp Bsinesses Page 100 from Arizona.\n",
      "Getting Yelp Bsinesses Page 150 from Arizona.\n",
      "Getting Yelp Bsinesses Page 200 from Arizona.\n",
      "Getting Yelp Bsinesses Page 250 from Arizona.\n",
      "Getting Yelp Bsinesses Page 300 from Arizona.\n",
      "Getting Yelp Bsinesses Page 350 from Arizona.\n",
      "Getting Yelp Bsinesses Page 400 from Arizona.\n",
      "Getting Yelp Bsinesses Page 450 from Arizona.\n",
      "Getting Yelp Bsinesses Page 500 from Arizona.\n",
      "Getting Yelp Bsinesses Page 550 from Arizona.\n",
      "Getting Yelp Bsinesses Page 600 from Arizona.\n",
      "Getting Yelp Bsinesses Page 650 from Arizona.\n",
      "Getting Yelp Bsinesses Page 700 from Arizona.\n",
      "Getting Yelp Bsinesses Page 750 from Arizona.\n",
      "Getting Yelp Bsinesses Page 800 from Arizona.\n",
      "Getting Yelp Bsinesses Page 850 from Arizona.\n",
      "Getting Yelp Bsinesses Page 900 from Arizona.\n",
      "Getting Yelp Bsinesses Page 950 from Arizona.\n",
      "Total Time Spent: 18 seconds\n"
     ]
    }
   ],
   "source": [
    "df = pd.DataFrame(yelp_s('Arizona'))"
   ]
  },
  {
   "cell_type": "code",
   "execution_count": 9,
   "metadata": {},
   "outputs": [
    {
     "data": {
      "text/html": [
       "<div>\n",
       "<style scoped>\n",
       "    .dataframe tbody tr th:only-of-type {\n",
       "        vertical-align: middle;\n",
       "    }\n",
       "\n",
       "    .dataframe tbody tr th {\n",
       "        vertical-align: top;\n",
       "    }\n",
       "\n",
       "    .dataframe thead th {\n",
       "        text-align: right;\n",
       "    }\n",
       "</style>\n",
       "<table border=\"1\" class=\"dataframe\">\n",
       "  <thead>\n",
       "    <tr style=\"text-align: right;\">\n",
       "      <th></th>\n",
       "      <th>alias</th>\n",
       "      <th>categories</th>\n",
       "      <th>coordinates</th>\n",
       "      <th>display_phone</th>\n",
       "      <th>distance</th>\n",
       "      <th>id</th>\n",
       "      <th>image_url</th>\n",
       "      <th>is_closed</th>\n",
       "      <th>location</th>\n",
       "      <th>name</th>\n",
       "      <th>phone</th>\n",
       "      <th>price</th>\n",
       "      <th>rating</th>\n",
       "      <th>review_count</th>\n",
       "      <th>transactions</th>\n",
       "      <th>url</th>\n",
       "    </tr>\n",
       "  </thead>\n",
       "  <tbody>\n",
       "    <tr>\n",
       "      <th>0</th>\n",
       "      <td>little-miss-bbq-phoenix-2</td>\n",
       "      <td>[{'alias': 'bbq', 'title': 'Barbeque'}]</td>\n",
       "      <td>{'latitude': 33.4218771340634, 'longitude': -1...</td>\n",
       "      <td>(602) 437-1177</td>\n",
       "      <td>7928.626705</td>\n",
       "      <td>Xg5qEQiB-7L6kGJ5F4K3bQ</td>\n",
       "      <td>https://s3-media1.fl.yelpcdn.com/bphoto/Z0boK4...</td>\n",
       "      <td>False</td>\n",
       "      <td>{'address1': '4301 E University Dr', 'address2...</td>\n",
       "      <td>Little Miss BBQ</td>\n",
       "      <td>+16024371177</td>\n",
       "      <td>$$</td>\n",
       "      <td>5.0</td>\n",
       "      <td>2028</td>\n",
       "      <td>[]</td>\n",
       "      <td>https://www.yelp.com/biz/little-miss-bbq-phoen...</td>\n",
       "    </tr>\n",
       "    <tr>\n",
       "      <th>1</th>\n",
       "      <td>cibo-phoenix</td>\n",
       "      <td>[{'alias': 'pizza', 'title': 'Pizza'}, {'alias...</td>\n",
       "      <td>{'latitude': 33.45496, 'longitude': -112.079908}</td>\n",
       "      <td>(602) 441-2697</td>\n",
       "      <td>1427.893225</td>\n",
       "      <td>9a3DrZvpYxVs3k_qwlCNSw</td>\n",
       "      <td>https://s3-media1.fl.yelpcdn.com/bphoto/upt_Bg...</td>\n",
       "      <td>False</td>\n",
       "      <td>{'address1': '603 N 5th Ave', 'address2': None...</td>\n",
       "      <td>Cibo</td>\n",
       "      <td>+16024412697</td>\n",
       "      <td>$$</td>\n",
       "      <td>4.5</td>\n",
       "      <td>2010</td>\n",
       "      <td>[pickup]</td>\n",
       "      <td>https://www.yelp.com/biz/cibo-phoenix?adjust_c...</td>\n",
       "    </tr>\n",
       "    <tr>\n",
       "      <th>2</th>\n",
       "      <td>harumi-sushi-phoenix</td>\n",
       "      <td>[{'alias': 'japanese', 'title': 'Japanese'}, {...</td>\n",
       "      <td>{'latitude': 33.4497491809777, 'longitude': -1...</td>\n",
       "      <td>(602) 258-0131</td>\n",
       "      <td>711.602175</td>\n",
       "      <td>S-oLPRdhlyL5HAknBKTUcQ</td>\n",
       "      <td>https://s3-media4.fl.yelpcdn.com/bphoto/ZdAGtJ...</td>\n",
       "      <td>False</td>\n",
       "      <td>{'address1': '114 W Adams St', 'address2': 'St...</td>\n",
       "      <td>Harumi Sushi</td>\n",
       "      <td>+16022580131</td>\n",
       "      <td>$$</td>\n",
       "      <td>4.5</td>\n",
       "      <td>1150</td>\n",
       "      <td>[]</td>\n",
       "      <td>https://www.yelp.com/biz/harumi-sushi-phoenix?...</td>\n",
       "    </tr>\n",
       "    <tr>\n",
       "      <th>3</th>\n",
       "      <td>lux-central-phoenix-2</td>\n",
       "      <td>[{'alias': 'coffee', 'title': 'Coffee &amp; Tea'},...</td>\n",
       "      <td>{'latitude': 33.5005972575259, 'longitude': -1...</td>\n",
       "      <td>(602) 327-1396</td>\n",
       "      <td>6191.147233</td>\n",
       "      <td>OgJ0KxwJcJ9R5bUK0ixCbg</td>\n",
       "      <td>https://s3-media4.fl.yelpcdn.com/bphoto/zbqPnk...</td>\n",
       "      <td>False</td>\n",
       "      <td>{'address1': '4400 N Central Ave', 'address2':...</td>\n",
       "      <td>Lux Central</td>\n",
       "      <td>+16023271396</td>\n",
       "      <td>$$</td>\n",
       "      <td>4.0</td>\n",
       "      <td>2105</td>\n",
       "      <td>[]</td>\n",
       "      <td>https://www.yelp.com/biz/lux-central-phoenix-2...</td>\n",
       "    </tr>\n",
       "    <tr>\n",
       "      <th>4</th>\n",
       "      <td>la-santisima-phoenix</td>\n",
       "      <td>[{'alias': 'mexican', 'title': 'Mexican'}, {'a...</td>\n",
       "      <td>{'latitude': 33.4692, 'longitude': -112.04739}</td>\n",
       "      <td>(602) 254-6330</td>\n",
       "      <td>3419.587107</td>\n",
       "      <td>frCxZS7lPhEnQRJ3UY6m7A</td>\n",
       "      <td>https://s3-media4.fl.yelpcdn.com/bphoto/_dimjl...</td>\n",
       "      <td>False</td>\n",
       "      <td>{'address1': '1919 N 16th St', 'address2': '',...</td>\n",
       "      <td>La Santisima</td>\n",
       "      <td>+16022546330</td>\n",
       "      <td>$$</td>\n",
       "      <td>4.0</td>\n",
       "      <td>2009</td>\n",
       "      <td>[pickup]</td>\n",
       "      <td>https://www.yelp.com/biz/la-santisima-phoenix?...</td>\n",
       "    </tr>\n",
       "  </tbody>\n",
       "</table>\n",
       "</div>"
      ],
      "text/plain": [
       "                       alias  \\\n",
       "0  little-miss-bbq-phoenix-2   \n",
       "1               cibo-phoenix   \n",
       "2       harumi-sushi-phoenix   \n",
       "3      lux-central-phoenix-2   \n",
       "4       la-santisima-phoenix   \n",
       "\n",
       "                                          categories  \\\n",
       "0            [{'alias': 'bbq', 'title': 'Barbeque'}]   \n",
       "1  [{'alias': 'pizza', 'title': 'Pizza'}, {'alias...   \n",
       "2  [{'alias': 'japanese', 'title': 'Japanese'}, {...   \n",
       "3  [{'alias': 'coffee', 'title': 'Coffee & Tea'},...   \n",
       "4  [{'alias': 'mexican', 'title': 'Mexican'}, {'a...   \n",
       "\n",
       "                                         coordinates   display_phone  \\\n",
       "0  {'latitude': 33.4218771340634, 'longitude': -1...  (602) 437-1177   \n",
       "1   {'latitude': 33.45496, 'longitude': -112.079908}  (602) 441-2697   \n",
       "2  {'latitude': 33.4497491809777, 'longitude': -1...  (602) 258-0131   \n",
       "3  {'latitude': 33.5005972575259, 'longitude': -1...  (602) 327-1396   \n",
       "4     {'latitude': 33.4692, 'longitude': -112.04739}  (602) 254-6330   \n",
       "\n",
       "      distance                      id  \\\n",
       "0  7928.626705  Xg5qEQiB-7L6kGJ5F4K3bQ   \n",
       "1  1427.893225  9a3DrZvpYxVs3k_qwlCNSw   \n",
       "2   711.602175  S-oLPRdhlyL5HAknBKTUcQ   \n",
       "3  6191.147233  OgJ0KxwJcJ9R5bUK0ixCbg   \n",
       "4  3419.587107  frCxZS7lPhEnQRJ3UY6m7A   \n",
       "\n",
       "                                           image_url  is_closed  \\\n",
       "0  https://s3-media1.fl.yelpcdn.com/bphoto/Z0boK4...      False   \n",
       "1  https://s3-media1.fl.yelpcdn.com/bphoto/upt_Bg...      False   \n",
       "2  https://s3-media4.fl.yelpcdn.com/bphoto/ZdAGtJ...      False   \n",
       "3  https://s3-media4.fl.yelpcdn.com/bphoto/zbqPnk...      False   \n",
       "4  https://s3-media4.fl.yelpcdn.com/bphoto/_dimjl...      False   \n",
       "\n",
       "                                            location             name  \\\n",
       "0  {'address1': '4301 E University Dr', 'address2...  Little Miss BBQ   \n",
       "1  {'address1': '603 N 5th Ave', 'address2': None...             Cibo   \n",
       "2  {'address1': '114 W Adams St', 'address2': 'St...     Harumi Sushi   \n",
       "3  {'address1': '4400 N Central Ave', 'address2':...      Lux Central   \n",
       "4  {'address1': '1919 N 16th St', 'address2': '',...     La Santisima   \n",
       "\n",
       "          phone price  rating  review_count transactions  \\\n",
       "0  +16024371177    $$     5.0          2028           []   \n",
       "1  +16024412697    $$     4.5          2010     [pickup]   \n",
       "2  +16022580131    $$     4.5          1150           []   \n",
       "3  +16023271396    $$     4.0          2105           []   \n",
       "4  +16022546330    $$     4.0          2009     [pickup]   \n",
       "\n",
       "                                                 url  \n",
       "0  https://www.yelp.com/biz/little-miss-bbq-phoen...  \n",
       "1  https://www.yelp.com/biz/cibo-phoenix?adjust_c...  \n",
       "2  https://www.yelp.com/biz/harumi-sushi-phoenix?...  \n",
       "3  https://www.yelp.com/biz/lux-central-phoenix-2...  \n",
       "4  https://www.yelp.com/biz/la-santisima-phoenix?...  "
      ]
     },
     "execution_count": 9,
     "metadata": {},
     "output_type": "execute_result"
    }
   ],
   "source": [
    "df.head()"
   ]
  },
  {
   "cell_type": "code",
   "execution_count": 10,
   "metadata": {},
   "outputs": [
    {
     "data": {
      "text/plain": [
       "Index(['alias', 'categories', 'coordinates', 'display_phone', 'distance', 'id',\n",
       "       'image_url', 'is_closed', 'location', 'name', 'phone', 'price',\n",
       "       'rating', 'review_count', 'transactions', 'url'],\n",
       "      dtype='object')"
      ]
     },
     "execution_count": 10,
     "metadata": {},
     "output_type": "execute_result"
    }
   ],
   "source": [
    "df.columns"
   ]
  },
  {
   "cell_type": "code",
   "execution_count": 11,
   "metadata": {},
   "outputs": [],
   "source": [
    "yelp_df = df[['alias','price','location']]"
   ]
  },
  {
   "cell_type": "code",
   "execution_count": 12,
   "metadata": {},
   "outputs": [
    {
     "data": {
      "text/plain": [
       "(1000, 3)"
      ]
     },
     "execution_count": 12,
     "metadata": {},
     "output_type": "execute_result"
    }
   ],
   "source": [
    "yelp_df.shape"
   ]
  },
  {
   "cell_type": "code",
   "execution_count": 13,
   "metadata": {},
   "outputs": [],
   "source": [
    "testing = df['id']"
   ]
  },
  {
   "cell_type": "code",
   "execution_count": null,
   "metadata": {},
   "outputs": [],
   "source": []
  },
  {
   "cell_type": "code",
   "execution_count": 14,
   "metadata": {},
   "outputs": [],
   "source": [
    "yelp_address = [i['display_address'] for i in yelp_df['location']]"
   ]
  },
  {
   "cell_type": "code",
   "execution_count": 15,
   "metadata": {},
   "outputs": [
    {
     "name": "stderr",
     "output_type": "stream",
     "text": [
      "/Users/rexchang/anaconda3/lib/python3.6/site-packages/ipykernel_launcher.py:1: SettingWithCopyWarning: \n",
      "A value is trying to be set on a copy of a slice from a DataFrame.\n",
      "Try using .loc[row_indexer,col_indexer] = value instead\n",
      "\n",
      "See the caveats in the documentation: http://pandas.pydata.org/pandas-docs/stable/indexing.html#indexing-view-versus-copy\n",
      "  \"\"\"Entry point for launching an IPython kernel.\n"
     ]
    }
   ],
   "source": [
    "yelp_df['alias'] = [i.replace('-', ' ') for i in yelp_df['alias']]"
   ]
  },
  {
   "cell_type": "code",
   "execution_count": 22,
   "metadata": {},
   "outputs": [
    {
     "data": {
      "text/html": [
       "<div>\n",
       "<style scoped>\n",
       "    .dataframe tbody tr th:only-of-type {\n",
       "        vertical-align: middle;\n",
       "    }\n",
       "\n",
       "    .dataframe tbody tr th {\n",
       "        vertical-align: top;\n",
       "    }\n",
       "\n",
       "    .dataframe thead th {\n",
       "        text-align: right;\n",
       "    }\n",
       "</style>\n",
       "<table border=\"1\" class=\"dataframe\">\n",
       "  <thead>\n",
       "    <tr style=\"text-align: right;\">\n",
       "      <th></th>\n",
       "      <th>alias</th>\n",
       "      <th>price</th>\n",
       "      <th>location</th>\n",
       "    </tr>\n",
       "  </thead>\n",
       "  <tbody>\n",
       "    <tr>\n",
       "      <th>0</th>\n",
       "      <td>little miss bbq phoenix 2</td>\n",
       "      <td>$$</td>\n",
       "      <td>{'address1': '4301 E University Dr', 'address2...</td>\n",
       "    </tr>\n",
       "    <tr>\n",
       "      <th>1</th>\n",
       "      <td>cibo phoenix</td>\n",
       "      <td>$$</td>\n",
       "      <td>{'address1': '603 N 5th Ave', 'address2': None...</td>\n",
       "    </tr>\n",
       "    <tr>\n",
       "      <th>2</th>\n",
       "      <td>harumi sushi phoenix</td>\n",
       "      <td>$$</td>\n",
       "      <td>{'address1': '114 W Adams St', 'address2': 'St...</td>\n",
       "    </tr>\n",
       "    <tr>\n",
       "      <th>3</th>\n",
       "      <td>lux central phoenix 2</td>\n",
       "      <td>$$</td>\n",
       "      <td>{'address1': '4400 N Central Ave', 'address2':...</td>\n",
       "    </tr>\n",
       "    <tr>\n",
       "      <th>4</th>\n",
       "      <td>la santisima phoenix</td>\n",
       "      <td>$$</td>\n",
       "      <td>{'address1': '1919 N 16th St', 'address2': '',...</td>\n",
       "    </tr>\n",
       "  </tbody>\n",
       "</table>\n",
       "</div>"
      ],
      "text/plain": [
       "                       alias price  \\\n",
       "0  little miss bbq phoenix 2    $$   \n",
       "1               cibo phoenix    $$   \n",
       "2       harumi sushi phoenix    $$   \n",
       "3      lux central phoenix 2    $$   \n",
       "4       la santisima phoenix    $$   \n",
       "\n",
       "                                            location  \n",
       "0  {'address1': '4301 E University Dr', 'address2...  \n",
       "1  {'address1': '603 N 5th Ave', 'address2': None...  \n",
       "2  {'address1': '114 W Adams St', 'address2': 'St...  \n",
       "3  {'address1': '4400 N Central Ave', 'address2':...  \n",
       "4  {'address1': '1919 N 16th St', 'address2': '',...  "
      ]
     },
     "execution_count": 22,
     "metadata": {},
     "output_type": "execute_result"
    }
   ],
   "source": [
    "yelp_df.head()"
   ]
  },
  {
   "cell_type": "code",
   "execution_count": null,
   "metadata": {},
   "outputs": [],
   "source": []
  },
  {
   "cell_type": "code",
   "execution_count": 17,
   "metadata": {},
   "outputs": [],
   "source": [
    "testing.to_csv('./datas/business_id.csv', index=False)"
   ]
  },
  {
   "cell_type": "code",
   "execution_count": 18,
   "metadata": {},
   "outputs": [],
   "source": [
    "business_id = testing.tolist()"
   ]
  },
  {
   "cell_type": "code",
   "execution_count": 19,
   "metadata": {},
   "outputs": [],
   "source": [
    "with open(\"./datas/business_id.txt\", \"wb\") as fp:   #Pickling\n",
    "    pickle.dump(business_id, fp)"
   ]
  },
  {
   "cell_type": "code",
   "execution_count": null,
   "metadata": {},
   "outputs": [],
   "source": []
  },
  {
   "cell_type": "code",
   "execution_count": null,
   "metadata": {},
   "outputs": [],
   "source": []
  },
  {
   "cell_type": "code",
   "execution_count": 20,
   "metadata": {},
   "outputs": [
    {
     "data": {
      "text/plain": [
       "[{'address1': '4301 E University Dr',\n",
       "  'address2': '',\n",
       "  'address3': None,\n",
       "  'city': 'Phoenix',\n",
       "  'zip_code': '85034',\n",
       "  'country': 'US',\n",
       "  'state': 'AZ',\n",
       "  'display_address': ['4301 E University Dr', 'Phoenix, AZ 85034']},\n",
       " {'address1': '603 N 5th Ave',\n",
       "  'address2': None,\n",
       "  'address3': '',\n",
       "  'city': 'Phoenix',\n",
       "  'zip_code': '85003',\n",
       "  'country': 'US',\n",
       "  'state': 'AZ',\n",
       "  'display_address': ['603 N 5th Ave', 'Phoenix, AZ 85003']},\n",
       " {'address1': '114 W Adams St',\n",
       "  'address2': 'Ste C101',\n",
       "  'address3': '',\n",
       "  'city': 'Phoenix',\n",
       "  'zip_code': '85003',\n",
       "  'country': 'US',\n",
       "  'state': 'AZ',\n",
       "  'display_address': ['114 W Adams St', 'Ste C101', 'Phoenix, AZ 85003']}]"
      ]
     },
     "execution_count": 20,
     "metadata": {},
     "output_type": "execute_result"
    }
   ],
   "source": [
    "yelp_df['location'].tolist()[:3]"
   ]
  },
  {
   "cell_type": "code",
   "execution_count": null,
   "metadata": {},
   "outputs": [],
   "source": []
  }
 ],
 "metadata": {
  "kernelspec": {
   "display_name": "Python 3",
   "language": "python",
   "name": "python3"
  },
  "language_info": {
   "codemirror_mode": {
    "name": "ipython",
    "version": 3
   },
   "file_extension": ".py",
   "mimetype": "text/x-python",
   "name": "python",
   "nbconvert_exporter": "python",
   "pygments_lexer": "ipython3",
   "version": "3.6.6"
  }
 },
 "nbformat": 4,
 "nbformat_minor": 2
}
